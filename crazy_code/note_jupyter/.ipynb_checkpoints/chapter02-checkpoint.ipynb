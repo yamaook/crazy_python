{
 "cells": [
  {
   "cell_type": "markdown",
   "id": "5c621382",
   "metadata": {},
   "source": [
    "# 2 变量和简单类型"
   ]
  },
  {
   "cell_type": "markdown",
   "id": "1214f972",
   "metadata": {},
   "source": [
    "## 2.1 注释"
   ]
  },
  {
   "cell_type": "code",
   "execution_count": null,
   "id": "22991c26",
   "metadata": {},
   "outputs": [],
   "source": [
    "#单行注释\n",
    "\"\"\"\n",
    "    多行注释1\n",
    "\"\"\"\n",
    "'''\n",
    "    print(\"hello world\")\n",
    "'''"
   ]
  },
  {
   "cell_type": "markdown",
   "id": "e2126b65",
   "metadata": {},
   "source": [
    "## 2.2 变量"
   ]
  },
  {
   "cell_type": "markdown",
   "id": "e50ef6b2",
   "metadata": {},
   "source": [
    "### 2.2.1 python是弱类型语言"
   ]
  },
  {
   "cell_type": "code",
   "execution_count": null,
   "id": "58fd6bec",
   "metadata": {},
   "outputs": [],
   "source": [
    "a = 20\n",
    "print(type(a))\n",
    "a=\"hello\"\n",
    "type(a)"
   ]
  },
  {
   "cell_type": "markdown",
   "id": "52c5df24",
   "metadata": {},
   "source": [
    "### 2.2.2 使用print函数输出变量"
   ]
  },
  {
   "cell_type": "code",
   "execution_count": null,
   "id": "155fc762",
   "metadata": {},
   "outputs": [],
   "source": [
    "#输出多个值\n",
    "name = \"hoe\"\n",
    "age = \"12\"\n",
    "print(\"名字：\",name,\"年龄\",age)\n",
    "#分隔符\n",
    "print(\"名字：\",name,\"年龄\",age,sep='｜')\n",
    "#结尾符\n",
    "print(40,'\\t',end=\"\")\n",
    "print(50,'\\t',end=\"\")\n",
    "print(60,'\\t',end=\"\")\n",
    "#file输出目标\n",
    "f = open(\"poem.txt\",\"w\")\n",
    "print(\"沧海月明珠有泪\",file=f)\n",
    "print(\"直挂云帆济沧海\",end=\"\",file=f)\n",
    "f.close()\n",
    "#flush用于控制输出缓存"
   ]
  },
  {
   "cell_type": "markdown",
   "id": "df8062a5",
   "metadata": {},
   "source": [
    "### 2.2.3 变量命名规则"
   ]
  },
  {
   "cell_type": "markdown",
   "id": "1406cb34",
   "metadata": {},
   "source": [
    "标识符：用于给变量、类、方法命名的符号。\n",
    "\n",
    "标识符规则：可以由字母、数字、下划线组成，其中数字不能打头。"
   ]
  },
  {
   "cell_type": "markdown",
   "id": "18c71dbd",
   "metadata": {},
   "source": [
    "### 2.2.4 关键字和内置函数"
   ]
  },
  {
   "cell_type": "code",
   "execution_count": null,
   "id": "d9df7c63",
   "metadata": {},
   "outputs": [],
   "source": [
    "#查看包含关键字\n",
    "import keyword\n",
    "keyword.kwlist"
   ]
  },
  {
   "cell_type": "markdown",
   "id": "5a99a99f",
   "metadata": {},
   "source": [
    "# 2.3 数值类型"
   ]
  },
  {
   "cell_type": "markdown",
   "id": "77f6e6a1",
   "metadata": {},
   "source": [
    "### 2.3.1 整型"
   ]
  },
  {
   "cell_type": "code",
   "execution_count": null,
   "id": "6596bc41",
   "metadata": {},
   "outputs": [],
   "source": [
    "# 大小整数值都能处理\n",
    "a = 56\n",
    "print(a)\n",
    "a= 99999999999999999999999\n",
    "print(a)\n",
    "print(type(a))\n",
    "a=None\n",
    "print(a)"
   ]
  },
  {
   "cell_type": "markdown",
   "id": "f5a0a246",
   "metadata": {},
   "source": [
    "整型数值表示形式：  box\n",
    "十进制形式：  \n",
    "二进制形式：0b或0B开头  \n",
    "八进制形式：0o或0O开头  \n",
    "十六进制形式：0x或0X开头"
   ]
  },
  {
   "cell_type": "code",
   "execution_count": null,
   "id": "e85c3bb6",
   "metadata": {},
   "outputs": [],
   "source": [
    "#十六进制\n",
    "hex_value1 = 0x12\n",
    "hex_value2 = 0xaF\n",
    "print(\"hexvalue1的值为:\",hex_value1)\n",
    "print(\"hexvalue2的值为:\",hex_value2)\n",
    "#二进制\n",
    "bin_val =0b111\n",
    "print('bin_val的值为:',bin_val)\n",
    "bin_val =0B101\n",
    "print('bin_val的值为:',bin_val)\n",
    "#八进制\n",
    "oct_val = 0o54\n",
    "print(\"oct_val的值为:\",oct_val)\n",
    "oct_val = 0O17\n",
    "print(\"oct_val的值为:\",oct_val)\n",
    "\n",
    "#在数值中使用下划线\n",
    "one_million = 1_000_000\n",
    "print(one_million)"
   ]
  },
  {
   "cell_type": "markdown",
   "id": "6396da2e",
   "metadata": {},
   "source": [
    "### 2.3.2 浮点型"
   ]
  },
  {
   "cell_type": "markdown",
   "id": "64949dd6",
   "metadata": {},
   "source": [
    "浮点型数值表示形式：  \n",
    "十进制形式：512.0  \n",
    "科学技术形式：5.12e2、5.12E2"
   ]
  },
  {
   "cell_type": "code",
   "execution_count": null,
   "id": "f53f27d7",
   "metadata": {},
   "outputs": [],
   "source": [
    "af1 = 5.2345556\n",
    "print('af1的值为：',af1)\n",
    "af2 = 25.2345\n",
    "print('af2的类型为：',type(af2))\n",
    "f1 = 5.12e2\n",
    "print('f1的值为：',f1)\n",
    "f2 = 5e3\n",
    "print('f2的值为：',f2)\n",
    "print('f2的类型为：',type(f2))"
   ]
  },
  {
   "cell_type": "markdown",
   "id": "059bf1d9",
   "metadata": {},
   "source": [
    "### 2.3.3 复数"
   ]
  },
  {
   "cell_type": "code",
   "execution_count": null,
   "id": "088decc7",
   "metadata": {
    "scrolled": true
   },
   "outputs": [],
   "source": [
    "ac1 = 3+0.2J\n",
    "print(ac1)\n",
    "print(type(ac1))\n",
    "ac2 = 4-0.1j\n",
    "print(ac2)\n",
    "#复数运算\n",
    "print(ac1+ac2)\n",
    "import cmath\n",
    "#平方根\n",
    "ac3 = cmath.sqrt(-1)\n",
    "print(ac3)"
   ]
  },
  {
   "cell_type": "markdown",
   "id": "ce539e83",
   "metadata": {},
   "source": [
    "## 2.4 字符串入门"
   ]
  },
  {
   "cell_type": "markdown",
   "id": "7762c637",
   "metadata": {},
   "source": [
    "### 2.4.1 字符串和转义字符"
   ]
  },
  {
   "cell_type": "code",
   "execution_count": null,
   "id": "285c9d93",
   "metadata": {},
   "outputs": [],
   "source": [
    "#字符串中包含引号\n",
    "#使用不同引号将字符串括起来\n",
    "str3 = \"i'm a coder\"\n",
    "print(''' i'm coder\" ''')\n",
    "#对引号转义\n",
    "str5 = '\"we are scared ,let\\'s hide in the shade\",says the bird'\n",
    "print(str5)"
   ]
  },
  {
   "cell_type": "markdown",
   "id": "394d21a8",
   "metadata": {},
   "source": [
    "## 2.4.2 拼接字符串"
   ]
  },
  {
   "cell_type": "code",
   "execution_count": null,
   "id": "fb5ccbe2",
   "metadata": {},
   "outputs": [],
   "source": [
    "# 只是字符串的一种书写方式\n",
    "s1 = \"hello,\" 'charlie'\n",
    "print(s1)\n",
    "# 字符串拼接运算符\n",
    "s2 = 'python '\n",
    "s3 = 'is funny'\n",
    "s4 = s2 +s3\n",
    "print(s4)\n"
   ]
  },
  {
   "cell_type": "markdown",
   "id": "531e7f1b",
   "metadata": {},
   "source": [
    "### 2.4.3 repr 和 字符串 "
   ]
  },
  {
   "cell_type": "code",
   "execution_count": null,
   "id": "76bbc8c2",
   "metadata": {},
   "outputs": [],
   "source": [
    "#数值转字符串\n",
    "s1 = '这本书的价格是：'\n",
    "p = 99.8\n",
    "#str是python内置类型\n",
    "print(s1+str(p))\n",
    "#repr是一个函数\n",
    "print(s1+repr(p))\n",
    "#repr以python表达式的形式表示值\n",
    "st = \"i will play my fife\"\n",
    "print(st)\n",
    "print(repr(st))"
   ]
  },
  {
   "cell_type": "markdown",
   "id": "745d1abc",
   "metadata": {},
   "source": [
    "### 2.4.4 input( )"
   ]
  },
  {
   "cell_type": "code",
   "execution_count": null,
   "id": "a1f7fedf",
   "metadata": {},
   "outputs": [],
   "source": [
    "msg = input(\"请输入\")\n",
    "print(type(msg))\n",
    "print(msg)"
   ]
  },
  {
   "cell_type": "markdown",
   "id": "e81317a2",
   "metadata": {},
   "source": [
    "### 2.4.5 长字符串"
   ]
  },
  {
   "cell_type": "code",
   "execution_count": null,
   "id": "6d317ea5",
   "metadata": {},
   "outputs": [],
   "source": [
    "#多行注释其实是长字符串\n",
    "long_str = '''\"Let's go fishing\", said Mary.\n",
    "\"OK,Let's go\",said her brother.\n",
    "they walked to a lake'''\n",
    "print(long_str)\n",
    "\n",
    "#可以使用转义字符对换行符转义，转移之后换行符不会中断字符串\n",
    "long_str2 = '''\"Let's go fishing\", said Mary.\\\n",
    "\"OK,Let's go\",said her brother.\\\n",
    "they walked to a lake'''\n",
    "print(long_str2)\n",
    "\n",
    "#python表达式换行需要使用转义字符‘\\'\n",
    "num = 20+3/4 + \\\n",
    "2*3\n",
    "print(num)"
   ]
  },
  {
   "cell_type": "markdown",
   "id": "564b2da3",
   "metadata": {},
   "source": [
    "### 2.4.6 原始字符串 "
   ]
  },
  {
   "cell_type": "code",
   "execution_count": null,
   "id": "133710ec",
   "metadata": {
    "scrolled": true
   },
   "outputs": [],
   "source": [
    "#我记得直接反斜杠不行，但不知道为啥可以\n",
    "str1 = \"G:\\publish\\nodes\"\n",
    "print(str1)\n",
    "raw_str = r\"G:\\publish\\node原始字符串\"\n",
    "print(raw_str)\n",
    "\n",
    "#原始字符串的引号也需要转义，但是斜杠也显示出来了\n",
    "raw_str2 = r\"G:\\publish\\nodes'原始'\\\"字符串\"\n",
    "print(raw_str2)\n",
    "\n",
    "#原始字符串结尾不能是反斜线\n",
    "#raw_str3 = r\"G:\\publish\\nodes'原始'字符串\\\"\n",
    "# print(raw_str3)\n",
    "\n",
    "#原始字符串结尾如何才能是反斜线\n",
    "#方法一\n",
    "str2 = \"\"\"结尾是反斜杠\\\\\"\"\"\n",
    "# 方法二\n",
    "str3 = r\"结尾是反斜杠\" \"\\\\\"\n",
    "print(str2,str3,sep='\\n')"
   ]
  },
  {
   "cell_type": "markdown",
   "id": "8eb7ea0a",
   "metadata": {},
   "source": [
    "### 2.4.7 bytes类型 "
   ]
  },
  {
   "cell_type": "code",
   "execution_count": null,
   "id": "85b730e3",
   "metadata": {},
   "outputs": [],
   "source": [
    "# 创建一个空bytes\n",
    "b1 = bytes()\n",
    "# 创建一个空bytes值\n",
    "b2 = b''\n",
    "#通过b前缀制定hello是bytes类型的值\n",
    "b3 = b'hello'\n",
    "print(b1)\n",
    "print(b2)\n",
    "print(b3)\n",
    "print(b3[0])\n",
    "print(b3[2:4])\n",
    "print(type(b3))\n",
    "\n",
    "#字符串转bytes\n",
    "b4 = bytes('我要python编程',encoding = 'utf-8')\n",
    "print(b4)\n",
    "\n",
    "# 字符串转bytes\n",
    "b5 = '学习python很有趣'.encode('utf-8')\n",
    "print(b5)\n",
    "\n",
    "#bytes对象解码成字符串，默认使用utf-8解码\n",
    "st = b5.decode('utf-8')\n",
    "print(st)"
   ]
  },
  {
   "cell_type": "markdown",
   "id": "d60a9954",
   "metadata": {},
   "source": [
    "##  2.5 深入使用字符串"
   ]
  },
  {
   "cell_type": "markdown",
   "id": "dfd2da1a",
   "metadata": {},
   "source": [
    "### 2.5.1 转义字符"
   ]
  },
  {
   "cell_type": "code",
   "execution_count": null,
   "id": "4005df61",
   "metadata": {},
   "outputs": [],
   "source": [
    "s = 'Hello\\nCharlie\\nGood\\nMorning'\n",
    "print(s)\n",
    "s2 = '商品名\\t\\t单价\\t\\t数量\\t\\t总价'\n",
    "s3 = '疯狂Java讲义\\t108\\t\\t2\\t\\t216'\n",
    "print(s2)\n",
    "print(s3)"
   ]
  },
  {
   "cell_type": "markdown",
   "id": "cc1ada28",
   "metadata": {},
   "source": [
    "### 2.5.2 字符串格式化"
   ]
  },
  {
   "cell_type": "code",
   "execution_count": null,
   "id": "73b703a9",
   "metadata": {},
   "outputs": [],
   "source": [
    "#格式化字符串\n",
    "price = 108\n",
    "print('the book is %s'%price)\n",
    "user = 'charli'\n",
    "age = 8\n",
    "print('%s is a %s years old boy' % (user,age))"
   ]
  },
  {
   "cell_type": "code",
   "execution_count": null,
   "id": "cdac25e2",
   "metadata": {},
   "outputs": [],
   "source": [
    "#转换说明符号设置最小宽度\n",
    "num = -28\n",
    "print('num is %6i' % num)\n",
    "print('num is %6d' % num)\n",
    "print('num is %6o' % num)\n",
    "print('num is %6x' % num)\n",
    "print('num is %6X' % num)\n",
    "print('num is %6s' % num)\n",
    "\n",
    "#转换说明符的一些标志\n",
    "num2 = 30\n",
    "#左边补0\n",
    "print('num2 is: %06d' % num2)\n",
    "#左边补0，总带上符号\n",
    "print('num2 is: %+06d' % num2)\n",
    "#左对齐\n",
    "print('num2 is: %-6d' % num2)\n",
    "\n",
    "#浮点数\n",
    "my_value = 3.001415926535\n",
    "#最小宽度为8，小数点保留3位\n",
    "print('my_Value is : %8.3f'% my_value)\n",
    "#最小宽度为8，小数点保留3位，左边补0\n",
    "print('my_Value is : %08.3f'% my_value)\n",
    "#最小宽度为8，小数点保留3位,左边补0，始终带符号\n",
    "print('my_Value is : %+08.3f'% my_value)\n",
    "\n",
    "#字符串\n",
    "name = 'charlie'\n",
    "#只保留3个字符\n",
    "print('the name is : %.3s' % name)\n",
    "#只保留2个字符,最小宽度为10\n",
    "print('the name is : %10.2s' % name)"
   ]
  },
  {
   "cell_type": "markdown",
   "id": "b14037c3",
   "metadata": {},
   "source": [
    "### 2.5.3 序列相关方法"
   ]
  },
  {
   "cell_type": "code",
   "execution_count": null,
   "id": "795b9f72",
   "metadata": {},
   "outputs": [],
   "source": [
    "#索引\n",
    "s = 'aujaidsfjwjeveryflkjwae;fjoiwjefjw'\n",
    "print(s[2])\n",
    "print(s[-4])\n",
    "\n",
    "#切片\n",
    "print(s[3:5])\n",
    "print(s[3:-5])\n",
    "print(s[-6:-3])\n",
    "#开始和结束索引可以省略\n",
    "print(s[5:])\n",
    "print(s[-6:])\n",
    "print(s[:5])\n",
    "print(s[:-6])\n",
    "\n",
    "#in运算符\n",
    "print('very' in s)\n",
    "print('day' in s)\n",
    "\n",
    "#长度获取\n",
    "print(len(s))\n",
    "\n",
    "#最小最大字符\n",
    "print(min(s),max(s))"
   ]
  },
  {
   "cell_type": "markdown",
   "id": "0ae5bfaa",
   "metadata": {},
   "source": [
    "### 2.5.4大小写相关方法"
   ]
  },
  {
   "cell_type": "code",
   "execution_count": null,
   "id": "361cd129",
   "metadata": {},
   "outputs": [],
   "source": [
    "#查看类或者模块包含的全部内容\n",
    "dir(str)"
   ]
  },
  {
   "cell_type": "code",
   "execution_count": null,
   "id": "b624b69b",
   "metadata": {},
   "outputs": [],
   "source": [
    "#查看某个函数或者方法的帮助文档\n",
    "help(str.title)"
   ]
  },
  {
   "cell_type": "code",
   "execution_count": null,
   "id": "3c904c85",
   "metadata": {},
   "outputs": [],
   "source": [
    "#str中与大小写相关的方法\n",
    "a = 'i lovE tHiS python'\n",
    "print(a.title())\n",
    "print(a.lower())\n",
    "print(a.upper())"
   ]
  },
  {
   "cell_type": "markdown",
   "id": "f8fe1c22",
   "metadata": {},
   "source": [
    "### 2.5.5 删除空白 "
   ]
  },
  {
   "cell_type": "code",
   "execution_count": null,
   "id": "499aaae5",
   "metadata": {},
   "outputs": [],
   "source": [
    "s = \"   this is a puppy.  \"\n",
    "print(s.lstrip())\n",
    "print(s.rstrip())\n",
    "print(s.strip())"
   ]
  },
  {
   "cell_type": "code",
   "execution_count": null,
   "id": "ccbc0383",
   "metadata": {},
   "outputs": [],
   "source": [
    "#删除字符串前后指定字符\n",
    "s = \"i think it is a scarecrow\"\n",
    "print(s.lstrip('itow'))\n",
    "print(s.rstrip('itow'))\n",
    "print(s.strip('itow'))"
   ]
  },
  {
   "cell_type": "markdown",
   "id": "0782cc2f",
   "metadata": {},
   "source": [
    "### 2.5.6 查找、替换相关方法 "
   ]
  },
  {
   "cell_type": "code",
   "execution_count": null,
   "id": "0f806971",
   "metadata": {},
   "outputs": [],
   "source": [
    "s = 'crazyit.org is a good site'\n",
    "#判断是否以crazy开头\n",
    "print(s.startswith('crazy'))\n",
    "#判断结尾\n",
    "print(s.endswith('ite'))\n",
    "#查找org的位置\n",
    "print(s.find('org'))\n",
    "#查找org的位置\n",
    "print(s.index('org'))\n",
    "#从索引9处开始查找org出现的位置\n",
    "print(s.find('org',9))\n",
    "#从索引9处开始查找org出现的位置报错\n",
    "# print(s.index('org',9))\n",
    "#将字符串中所有it替换成xxxx\n",
    "print(s.replace('it','xxxx'))\n",
    "#将字符串中1个it替换成xxxx\n",
    "print(s.replace('it','xxxx',1))\n",
    "\"\"\"\n",
    "    定义翻译映射表\n",
    "\"\"\"\n",
    "table = {97:945,98:946,116:964}\n",
    "print(s.translate(table))"
   ]
  },
  {
   "cell_type": "code",
   "execution_count": null,
   "id": "56b3373d",
   "metadata": {},
   "outputs": [],
   "source": [
    "#生成翻译映射表\n",
    "table = str.maketrans('abt','123')\n",
    "table"
   ]
  },
  {
   "cell_type": "markdown",
   "id": "2a0edd35",
   "metadata": {},
   "source": [
    "\n",
    "### 2.5.7 分割、连接方法 "
   ]
  },
  {
   "cell_type": "code",
   "execution_count": null,
   "id": "aa0c94f9",
   "metadata": {},
   "outputs": [],
   "source": [
    "s = 'crazyit.org is a good site'\n",
    "#使用空格分割\n",
    "print(s.split())\n",
    "#使用空格分割,最多只分割前两个单词\n",
    "print(s.split(None,2))\n",
    "#使用点进行分割\n",
    "print(s.split(\".\"))\n",
    "\n",
    "mylist = s.split()\n",
    "#使用‘/’作为连接符拼接\n",
    "print('/'.join(mylist))\n",
    "#使用‘,’作为连接符拼接\n",
    "print(','.join(mylist))"
   ]
  },
  {
   "cell_type": "markdown",
   "id": "0c5b25e3",
   "metadata": {},
   "source": [
    "## 2.6运算符 "
   ]
  },
  {
   "cell_type": "markdown",
   "id": "6ca39c92",
   "metadata": {},
   "source": [
    "### 2.6.1 赋值运算符 "
   ]
  },
  {
   "cell_type": "code",
   "execution_count": null,
   "id": "68710023",
   "metadata": {},
   "outputs": [],
   "source": [
    "#赋值表达式是有值的"
   ]
  },
  {
   "cell_type": "markdown",
   "id": "26f9a002",
   "metadata": {},
   "source": [
    "### 2.6.2 算数运算符 "
   ]
  },
  {
   "cell_type": "code",
   "execution_count": null,
   "id": "9e539ec4",
   "metadata": {},
   "outputs": [],
   "source": [
    "\"\"\"\n",
    "    +：加法，连接运算符  \n",
    "    -：减法，求负  \n",
    "    *：乘法，连接运算符  \n",
    "    /：除法  \n",
    "    //：整除  \n",
    "    %：求余  \n",
    "    **：乘方运算符\n",
    "\"\"\""
   ]
  },
  {
   "cell_type": "markdown",
   "id": "6dee7ceb",
   "metadata": {},
   "source": [
    "### 2.6.3 位运算符 "
   ]
  },
  {
   "cell_type": "code",
   "execution_count": null,
   "id": "ec04e92d",
   "metadata": {},
   "outputs": [],
   "source": [
    "\"\"\"\n",
    "    &:与\n",
    "    |：或\n",
    "    ^:异或\n",
    "    ~:按位取反\n",
    "    <<:左位移\n",
    "    >>:右位移\n",
    "位移运算符只适合对整型数进行运算\n",
    "\"\"\"\n",
    "print(5&9)\n",
    "print(5|9)\n",
    "a= -5\n",
    "print(~a)\n",
    "print(5^9)\n",
    "print(5<<2)\n",
    "print(-5<<2)\n",
    "print(-5 >> 2)\n"
   ]
  },
  {
   "cell_type": "markdown",
   "id": "1954332e",
   "metadata": {},
   "source": [
    "### 2.6.4 增强运算符 "
   ]
  },
  {
   "cell_type": "code",
   "execution_count": null,
   "id": "92348d81",
   "metadata": {},
   "outputs": [],
   "source": [
    "\"\"\"\n",
    "    +=\n",
    "    -=\n",
    "    *=\n",
    "    /=\n",
    "    //=\n",
    "    %=\n",
    "    **=\n",
    "    &=\n",
    "    |=\n",
    "    ^=\n",
    "    <<=\n",
    "    >>=\n",
    "\"\"\""
   ]
  },
  {
   "cell_type": "markdown",
   "id": "79214682",
   "metadata": {},
   "source": [
    "### 2.6.5 索引运算符 "
   ]
  },
  {
   "cell_type": "code",
   "execution_count": null,
   "id": "75aa0960",
   "metadata": {},
   "outputs": [],
   "source": [
    "# []就是索引运算符\n",
    "a= 'abcdefghijklmn'\n",
    "#获取索引2到8的子串，步长为3\n",
    "print(a[2:8:3])\n",
    "#获取索引2到索引8的子串，步长为2\n",
    "print(a[2:8:2])"
   ]
  },
  {
   "cell_type": "markdown",
   "id": "1e543ecf",
   "metadata": {},
   "source": [
    "\n",
    "### 2.6.6 比较运算符和bool类型 "
   ]
  },
  {
   "cell_type": "code",
   "execution_count": null,
   "id": "8f19d127",
   "metadata": {},
   "outputs": [],
   "source": [
    "\"\"\"\n",
    " >\n",
    " >=\n",
    " <\n",
    " <=\n",
    " ==\n",
    " !=\n",
    " is 变量引用的同一个对象\n",
    " is not\n",
    "\"\"\"\n",
    "print(5==5.0)\n",
    "print(True ==1)\n",
    "import time\n",
    "a=time.gmtime()\n",
    "b=time.gmtime()\n",
    "print(a==b)\n",
    "print(a is b)\n",
    "\n",
    "#id函数 对象的内存地址\n",
    "print(id(a),id(b))"
   ]
  },
  {
   "cell_type": "markdown",
   "id": "4824a921",
   "metadata": {},
   "source": [
    "### 2.6.7 逻辑运算符 "
   ]
  },
  {
   "cell_type": "code",
   "execution_count": null,
   "id": "f27979b4",
   "metadata": {},
   "outputs": [],
   "source": [
    "\"\"\"\n",
    " and \n",
    " or \n",
    " not\n",
    "\"\"\""
   ]
  },
  {
   "cell_type": "markdown",
   "id": "ccdeb01e",
   "metadata": {},
   "source": [
    "### 2.6.8 三目运算符 "
   ]
  },
  {
   "cell_type": "code",
   "execution_count": null,
   "id": "51010a1d",
   "metadata": {},
   "outputs": [],
   "source": [
    "\"\"\"\n",
    "    只是通过if语句来实现三目运算符的功能，并非真正的三目运算符，而是if表达式\n",
    "\"\"\"\n",
    "a = 5\n",
    "b= 3\n",
    "st = \"a大于b\" if a>b else \"a不大于b\"\n",
    "print(st)\n",
    "c = 5\n",
    "d=5\n",
    "print('c>d') if c>d else (print('c<d') if c <d else print('c=d'))\n"
   ]
  },
  {
   "cell_type": "markdown",
   "id": "2119d7eb",
   "metadata": {},
   "source": [
    "### 2.6.9 in成员运算符 "
   ]
  },
  {
   "cell_type": "code",
   "execution_count": null,
   "id": "31ef037a",
   "metadata": {},
   "outputs": [],
   "source": [
    "#判断某个成员是否位于序列中\n",
    "s = 'crazyit.org'\n",
    "print('it' in s)\n",
    "print('it' not in s)"
   ]
  },
  {
   "cell_type": "markdown",
   "id": "080464db",
   "metadata": {},
   "source": [
    "### 2.6.10 运算符的结合性和优先级 "
   ]
  },
  {
   "cell_type": "code",
   "execution_count": null,
   "id": "877410f0",
   "metadata": {},
   "outputs": [],
   "source": [
    "\"\"\"\n",
    "    从右向左结合：单目运算符、赋值运算符、三目运算符\n",
    "    从左向右结合：其他都是\n",
    "\"\"\""
   ]
  }
 ],
 "metadata": {
  "kernelspec": {
   "display_name": "Python 3 (ipykernel)",
   "language": "python",
   "name": "python3"
  },
  "language_info": {
   "codemirror_mode": {
    "name": "ipython",
    "version": 3
   },
   "file_extension": ".py",
   "mimetype": "text/x-python",
   "name": "python",
   "nbconvert_exporter": "python",
   "pygments_lexer": "ipython3",
   "version": "3.9.12"
  }
 },
 "nbformat": 4,
 "nbformat_minor": 5
}
