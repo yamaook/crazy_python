{
 "cells": [
  {
   "cell_type": "markdown",
   "id": "5c621382",
   "metadata": {},
   "source": [
    "# 2 变量和简单类型"
   ]
  },
  {
   "cell_type": "markdown",
   "id": "1214f972",
   "metadata": {},
   "source": [
    "## 2.1 注释"
   ]
  },
  {
   "cell_type": "code",
   "execution_count": 1,
   "id": "22991c26",
   "metadata": {},
   "outputs": [
    {
     "data": {
      "text/plain": [
       "'\\n    print(\"hello world\")\\n'"
      ]
     },
     "execution_count": 1,
     "metadata": {},
     "output_type": "execute_result"
    }
   ],
   "source": [
    "#单行注释\n",
    "\n",
    "\"\"\"\n",
    "    多行注释1\n",
    "\"\"\"\n",
    "'''\n",
    "    print(\"hello world\")\n",
    "'''"
   ]
  },
  {
   "cell_type": "markdown",
   "id": "e2126b65",
   "metadata": {},
   "source": [
    "## 2.2 变量"
   ]
  },
  {
   "cell_type": "markdown",
   "id": "e50ef6b2",
   "metadata": {},
   "source": [
    "### 2.2.1 python是弱类型语言"
   ]
  },
  {
   "cell_type": "code",
   "execution_count": 6,
   "id": "58fd6bec",
   "metadata": {},
   "outputs": [
    {
     "name": "stdout",
     "output_type": "stream",
     "text": [
      "<class 'int'>\n",
      "<class 'str'>\n"
     ]
    }
   ],
   "source": [
    "a = 20\n",
    "print(type(a))\n",
    "a=\"hello\"\n",
    "print(type(a))"
   ]
  },
  {
   "cell_type": "markdown",
   "id": "52c5df24",
   "metadata": {},
   "source": [
    "### 2.2.2 使用print函数输出变量"
   ]
  },
  {
   "cell_type": "code",
   "execution_count": 9,
   "id": "155fc762",
   "metadata": {},
   "outputs": [
    {
     "name": "stdout",
     "output_type": "stream",
     "text": [
      "名字： hoe 年龄 12\n",
      "名字：｜hoe｜年龄｜12\n",
      "40 \t50 \t60 \t"
     ]
    }
   ],
   "source": [
    "#输出多个值\n",
    "name = \"hoe\"\n",
    "age = \"12\"\n",
    "print(\"名字：\",name,\"年龄\",age)\n",
    "#分隔符\n",
    "print(\"名字：\",name,\"年龄\",age,sep='｜')\n",
    "#结尾符\n",
    "print(40,'\\t',end=\"\")\n",
    "print(50,'\\t',end=\"\")\n",
    "print(60,'\\t',end=\"\")\n",
    "#file输出目标，默认值sys.stout\n",
    "f = open(\"测试print函数的输出功能poem.txt\",\"w\")\n",
    "print(\"沧海月明珠有泪\",file=f)\n",
    "print(\"直挂云帆济沧海\",end=\"\",file=f)\n",
    "f.close()\n",
    "#flush用于控制输出缓存"
   ]
  },
  {
   "cell_type": "markdown",
   "id": "df8062a5",
   "metadata": {},
   "source": [
    "### 2.2.3 变量命名规则"
   ]
  },
  {
   "cell_type": "markdown",
   "id": "1406cb34",
   "metadata": {},
   "source": [
    "标识符：用于给变量、类、方法命名的符号。\n",
    "\n",
    "标识符规则：可以由字母、数字、下划线组成，其中数字不能打头。"
   ]
  },
  {
   "cell_type": "markdown",
   "id": "18c71dbd",
   "metadata": {},
   "source": [
    "### 2.2.4 关键字和内置函数"
   ]
  },
  {
   "cell_type": "code",
   "execution_count": 10,
   "id": "d9df7c63",
   "metadata": {},
   "outputs": [
    {
     "data": {
      "text/plain": [
       "['False',\n",
       " 'None',\n",
       " 'True',\n",
       " '__peg_parser__',\n",
       " 'and',\n",
       " 'as',\n",
       " 'assert',\n",
       " 'async',\n",
       " 'await',\n",
       " 'break',\n",
       " 'class',\n",
       " 'continue',\n",
       " 'def',\n",
       " 'del',\n",
       " 'elif',\n",
       " 'else',\n",
       " 'except',\n",
       " 'finally',\n",
       " 'for',\n",
       " 'from',\n",
       " 'global',\n",
       " 'if',\n",
       " 'import',\n",
       " 'in',\n",
       " 'is',\n",
       " 'lambda',\n",
       " 'nonlocal',\n",
       " 'not',\n",
       " 'or',\n",
       " 'pass',\n",
       " 'raise',\n",
       " 'return',\n",
       " 'try',\n",
       " 'while',\n",
       " 'with',\n",
       " 'yield']"
      ]
     },
     "execution_count": 10,
     "metadata": {},
     "output_type": "execute_result"
    }
   ],
   "source": [
    "#查看包含关键字\n",
    "import keyword\n",
    "keyword.kwlist"
   ]
  },
  {
   "cell_type": "markdown",
   "id": "5a99a99f",
   "metadata": {},
   "source": [
    "# 2.3 数值类型"
   ]
  },
  {
   "cell_type": "markdown",
   "id": "77f6e6a1",
   "metadata": {},
   "source": [
    "### 2.3.1 整型"
   ]
  },
  {
   "cell_type": "code",
   "execution_count": 11,
   "id": "6596bc41",
   "metadata": {},
   "outputs": [
    {
     "name": "stdout",
     "output_type": "stream",
     "text": [
      "56\n",
      "99999999999999999999999\n",
      "<class 'int'>\n",
      "None\n"
     ]
    }
   ],
   "source": [
    "# 大小整数值都能处理\n",
    "a = 56\n",
    "print(a)\n",
    "a= 99999999999999999999999\n",
    "print(a)\n",
    "print(type(a))\n",
    "a=None\n",
    "print(a)"
   ]
  },
  {
   "cell_type": "markdown",
   "id": "991032f8",
   "metadata": {},
   "source": [
    "整型数值有四种进制形式：\n",
    "\n",
    "十进制形式：平时常写的整数  \n",
    "二进制形式：0b或0B开头  \n",
    "八进制形式：0o或0O开头  \n",
    "十六进制形式：0x或0X开头"
   ]
  },
  {
   "cell_type": "code",
   "execution_count": 12,
   "id": "e85c3bb6",
   "metadata": {
    "scrolled": true
   },
   "outputs": [
    {
     "name": "stdout",
     "output_type": "stream",
     "text": [
      "hexvalue1的值为: 18\n",
      "hexvalue2的值为: 175\n",
      "bin_val的值为: 7\n",
      "bin_val的值为: 5\n",
      "oct_val的值为: 44\n",
      "oct_val的值为: 15\n",
      "1000000\n"
     ]
    }
   ],
   "source": [
    "#十六进制\n",
    "hex_value1 = 0x12\n",
    "hex_value2 = 0xaF\n",
    "print(\"hexvalue1的值为:\",hex_value1)\n",
    "print(\"hexvalue2的值为:\",hex_value2)\n",
    "#二进制\n",
    "bin_val =0b111\n",
    "print('bin_val的值为:',bin_val)\n",
    "bin_val =0B101\n",
    "print('bin_val的值为:',bin_val)\n",
    "#八进制\n",
    "oct_val = 0o54\n",
    "print(\"oct_val的值为:\",oct_val)\n",
    "oct_val = 0O17\n",
    "print(\"oct_val的值为:\",oct_val)\n",
    "\n",
    "#在数值中使用下划线\n",
    "one_million = 1_000_000\n",
    "print(one_million)"
   ]
  },
  {
   "cell_type": "markdown",
   "id": "6396da2e",
   "metadata": {},
   "source": [
    "### 2.3.2 浮点型"
   ]
  },
  {
   "cell_type": "markdown",
   "id": "64949dd6",
   "metadata": {},
   "source": [
    "浮点型数值表示形式：  \n",
    "十进制形式：512.0  \n",
    "科学技术形式：5.12e2、5.12E2"
   ]
  },
  {
   "cell_type": "code",
   "execution_count": 13,
   "id": "f53f27d7",
   "metadata": {},
   "outputs": [
    {
     "name": "stdout",
     "output_type": "stream",
     "text": [
      "af1的值为： 5.2345556\n",
      "af2的类型为： <class 'float'>\n",
      "f1的值为： 512.0\n",
      "f2的值为： 5000.0\n",
      "f2的类型为： <class 'float'>\n"
     ]
    }
   ],
   "source": [
    "af1 = 5.2345556\n",
    "print('af1的值为：',af1)\n",
    "af2 = 25.2345\n",
    "print('af2的类型为：',type(af2))\n",
    "f1 = 5.12e2\n",
    "print('f1的值为：',f1)\n",
    "f2 = 5e3\n",
    "print('f2的值为：',f2)\n",
    "print('f2的类型为：',type(f2))"
   ]
  },
  {
   "cell_type": "markdown",
   "id": "059bf1d9",
   "metadata": {},
   "source": [
    "### 2.3.3 复数"
   ]
  },
  {
   "cell_type": "code",
   "execution_count": 14,
   "id": "088decc7",
   "metadata": {
    "scrolled": true
   },
   "outputs": [
    {
     "name": "stdout",
     "output_type": "stream",
     "text": [
      "(3+0.2j)\n",
      "<class 'complex'>\n",
      "(4-0.1j)\n",
      "(7+0.1j)\n",
      "1j\n"
     ]
    }
   ],
   "source": [
    "ac1 = 3+0.2J\n",
    "print(ac1)\n",
    "print(type(ac1))\n",
    "ac2 = 4-0.1j\n",
    "print(ac2)\n",
    "#复数运算\n",
    "print(ac1+ac2)\n",
    "import cmath\n",
    "#平方根\n",
    "ac3 = cmath.sqrt(-1)\n",
    "print(ac3)"
   ]
  },
  {
   "cell_type": "markdown",
   "id": "ce539e83",
   "metadata": {},
   "source": [
    "## 2.4 字符串入门"
   ]
  },
  {
   "cell_type": "markdown",
   "id": "7762c637",
   "metadata": {},
   "source": [
    "### 2.4.1 字符串和转义字符"
   ]
  },
  {
   "cell_type": "code",
   "execution_count": 1,
   "id": "285c9d93",
   "metadata": {},
   "outputs": [
    {
     "name": "stdout",
     "output_type": "stream",
     "text": [
      " i'm coder\" \n",
      "\"we are scared ,let's hide in the shade\",says the bird\n"
     ]
    }
   ],
   "source": [
    "#字符串中包含引号需要特殊处理：\n",
    "#1、使用不同引号将字符串括起来\n",
    "str3 = \"i'm a coder\"\n",
    "print(''' i'm coder\" ''')\n",
    "#2、对引号转义\n",
    "str5 = '\"we are scared ,let\\'s hide in the shade\",says the bird'\n",
    "print(str5)"
   ]
  },
  {
   "cell_type": "markdown",
   "id": "394d21a8",
   "metadata": {},
   "source": [
    "## 2.4.2 拼接字符串"
   ]
  },
  {
   "cell_type": "code",
   "execution_count": 2,
   "id": "fb5ccbe2",
   "metadata": {},
   "outputs": [
    {
     "name": "stdout",
     "output_type": "stream",
     "text": [
      "hello,charlie\n",
      "python is funny\n"
     ]
    }
   ],
   "source": [
    "# 只是字符串的一种书写方式\n",
    "s1 = \"hello,\" 'charlie'\n",
    "print(s1)\n",
    "# 字符串拼接运算符\n",
    "s2 = 'python '\n",
    "s3 = 'is funny'\n",
    "s4 = s2 +s3\n",
    "print(s4)\n"
   ]
  },
  {
   "cell_type": "markdown",
   "id": "531e7f1b",
   "metadata": {},
   "source": [
    "### 2.4.3 repr 和 字符串 "
   ]
  },
  {
   "cell_type": "code",
   "execution_count": 3,
   "id": "76bbc8c2",
   "metadata": {},
   "outputs": [
    {
     "name": "stdout",
     "output_type": "stream",
     "text": [
      "这本书的价格是：99.8\n",
      "这本书的价格是：99.8\n",
      "i will play my fife\n",
      "'i will play my fife'\n"
     ]
    }
   ],
   "source": [
    "#数值转字符串\n",
    "s1 = '这本书的价格是：'\n",
    "p = 99.8\n",
    "#str是python内置类型\n",
    "print(s1+str(p))\n",
    "#repr是一个函数\n",
    "print(s1+repr(p))\n",
    "#repr会以python表达式的形式来表示值\n",
    "st = \"i will play my fife\"\n",
    "print(st)\n",
    "print(repr(st))#输出结果是字符串的python的表达式形式"
   ]
  },
  {
   "cell_type": "markdown",
   "id": "745d1abc",
   "metadata": {},
   "source": [
    "### 2.4.4 input( )"
   ]
  },
  {
   "cell_type": "code",
   "execution_count": 2,
   "id": "a1f7fedf",
   "metadata": {},
   "outputs": [
    {
     "name": "stdout",
     "output_type": "stream",
     "text": [
      "请输入2\n",
      "<class 'str'>\n",
      "2\n"
     ]
    }
   ],
   "source": [
    "msg = input(\"请输入\")\n",
    "print(type(msg))\n",
    "print(msg)"
   ]
  },
  {
   "cell_type": "markdown",
   "id": "e81317a2",
   "metadata": {},
   "source": [
    "### 2.4.5 长字符串"
   ]
  },
  {
   "cell_type": "code",
   "execution_count": 3,
   "id": "6d317ea5",
   "metadata": {},
   "outputs": [
    {
     "name": "stdout",
     "output_type": "stream",
     "text": [
      "\"Let's go fishing\", said Mary.\n",
      "\"OK,Let's go\",said her brother.\n",
      "they walked to a lake\n",
      "\"Let's go fishing\", said Mary.\"OK,Let's go\",said her brother.they walked to a lake\n",
      "26.75\n"
     ]
    }
   ],
   "source": [
    "#多行注释其实是长字符串\n",
    "long_str = '''\"Let's go fishing\", said Mary.\n",
    "\"OK,Let's go\",said her brother.\n",
    "they walked to a lake'''\n",
    "print(long_str)\n",
    "\n",
    "#可以使用转义字符对换行符转义，转移之后换行符不会中断字符串\n",
    "long_str2 = '''\"Let's go fishing\", said Mary.\\\n",
    "\"OK,Let's go\",said her brother.\\\n",
    "they walked to a lake'''\n",
    "print(long_str2)\n",
    "\n",
    "#python表达式换行需要使用转义字符‘\\'\n",
    "num = 20+3/4 + \\\n",
    "2*3\n",
    "print(num)"
   ]
  },
  {
   "cell_type": "markdown",
   "id": "564b2da3",
   "metadata": {},
   "source": [
    "### 2.4.6 原始字符串 "
   ]
  },
  {
   "cell_type": "code",
   "execution_count": 8,
   "id": "133710ec",
   "metadata": {
    "scrolled": true
   },
   "outputs": [
    {
     "name": "stdout",
     "output_type": "stream",
     "text": [
      "G:\\publish\n",
      "odes\n",
      "G:\\publish\\node原始字符串\n",
      "G:\\publish\\nodes'原始'\\\"字符串\n",
      "结尾是反斜杠\\\n",
      "结尾是反斜杠\\\n"
     ]
    }
   ],
   "source": [
    "#我记得直接反斜杠不行，但不知道为啥可以\n",
    "str1 = \"G:\\publish\\nodes\"\n",
    "print(str1)\n",
    "raw_str = r\"G:\\publish\\node原始字符串\"\n",
    "print(raw_str)\n",
    "\n",
    "#原始字符串的引号也需要转义，但是斜杠也显示出来了\n",
    "raw_str2 = r\"G:\\publish\\nodes'原始'\\\"字符串\"\n",
    "print(raw_str2)\n",
    "\n",
    "#原始字符串结尾不能是反斜线\n",
    "#raw_str3 = r\"G:\\publish\\nodes'原始'字符串\\\"\n",
    "# print(raw_str3)\n",
    "\n",
    "#原始字符串结尾如何才能是反斜线\n",
    "#方法一\n",
    "str2 = \"结尾是反斜杠\\\\\"\n",
    "# 方法二\n",
    "str3 = r\"结尾是反斜杠\" \"\\\\\"\n",
    "print(str2,str3,sep='\\n')"
   ]
  },
  {
   "cell_type": "markdown",
   "id": "8eb7ea0a",
   "metadata": {},
   "source": [
    "### 2.4.7 bytes类型 "
   ]
  },
  {
   "cell_type": "code",
   "execution_count": 9,
   "id": "85b730e3",
   "metadata": {},
   "outputs": [
    {
     "name": "stdout",
     "output_type": "stream",
     "text": [
      "b''\n",
      "b''\n",
      "b'hello'\n",
      "104\n",
      "b'll'\n",
      "<class 'bytes'>\n",
      "b'\\xe6\\x88\\x91\\xe8\\xa6\\x81python\\xe7\\xbc\\x96\\xe7\\xa8\\x8b'\n",
      "b'\\xe5\\xad\\xa6\\xe4\\xb9\\xa0python\\xe5\\xbe\\x88\\xe6\\x9c\\x89\\xe8\\xb6\\xa3'\n",
      "学习python很有趣\n"
     ]
    }
   ],
   "source": [
    "#bytes也是不可变序列\n",
    "# 创建一个空bytes\n",
    "b1 = bytes()\n",
    "# 创建一个空bytes值\n",
    "b2 = b''\n",
    "#通过b前缀制定hello是bytes类型的值\n",
    "b3 = b'hello'\n",
    "print(b1)\n",
    "print(b2)\n",
    "print(b3)\n",
    "print(b3[0])\n",
    "print(b3[2:4])\n",
    "print(type(b3))\n",
    "\n",
    "#字符串转bytes\n",
    "b4 = bytes('我要python编程',encoding = 'utf-8')\n",
    "print(b4)\n",
    "\n",
    "# 字符串转bytes\n",
    "b5 = '学习python很有趣'.encode('utf-8')\n",
    "print(b5)\n",
    "\n",
    "#bytes对象解码成字符串，默认使用utf-8解码\n",
    "st = b5.decode('utf-8')\n",
    "print(st)"
   ]
  },
  {
   "cell_type": "markdown",
   "id": "d60a9954",
   "metadata": {},
   "source": [
    "##  2.5 深入使用字符串"
   ]
  },
  {
   "cell_type": "markdown",
   "id": "dfd2da1a",
   "metadata": {},
   "source": [
    "### 2.5.1 转义字符"
   ]
  },
  {
   "cell_type": "code",
   "execution_count": 10,
   "id": "4005df61",
   "metadata": {},
   "outputs": [
    {
     "name": "stdout",
     "output_type": "stream",
     "text": [
      "Hello\n",
      "Charlie\n",
      "Good\n",
      "Morning\n",
      "商品名\t\t单价\t\t数量\t\t总价\n",
      "疯狂Java讲义\t108\t\t2\t\t216\n"
     ]
    }
   ],
   "source": [
    "s = 'Hello\\nCharlie\\nGood\\nMorning'\n",
    "print(s)\n",
    "s2 = '商品名\\t\\t单价\\t\\t数量\\t\\t总价'\n",
    "s3 = '疯狂Java讲义\\t108\\t\\t2\\t\\t216'\n",
    "print(s2)\n",
    "print(s3)"
   ]
  },
  {
   "cell_type": "markdown",
   "id": "cc1ada28",
   "metadata": {},
   "source": [
    "### 2.5.2 字符串格式化"
   ]
  },
  {
   "cell_type": "code",
   "execution_count": 11,
   "id": "73b703a9",
   "metadata": {},
   "outputs": [
    {
     "name": "stdout",
     "output_type": "stream",
     "text": [
      "the book is 108\n",
      "charli is a 8 years old boy\n"
     ]
    }
   ],
   "source": [
    "#格式化字符串\n",
    "price = 108\n",
    "print('the book is %s'%price)\n",
    "user = 'charli'\n",
    "age = 8\n",
    "print('%s is a %s years old boy' % (user,age))"
   ]
  },
  {
   "cell_type": "code",
   "execution_count": 4,
   "id": "cdac25e2",
   "metadata": {},
   "outputs": [
    {
     "name": "stdout",
     "output_type": "stream",
     "text": [
      "num is    -28\n",
      "num is    -28\n",
      "num is    -34\n",
      "num is    -1c\n",
      "num is    -1C\n",
      "num is    -28\n",
      "num2 is: 000030\n",
      "num2 is: +00030\n",
      "num2 is: 30    \n",
      "my_Value is :    3.001\n",
      "my_Value is : 0003.001\n",
      "my_Value is : +003.001\n",
      "the name is : cha\n",
      "the name is :         ch\n"
     ]
    }
   ],
   "source": [
    "#转换说明符号设置最小宽度，默认转换出来的字符串都是右对齐的。\n",
    "num = -28\n",
    "print('num is %6i' % num)\n",
    "print('num is %6d' % num)\n",
    "print('num is %6o' % num)\n",
    "print('num is %6x' % num)\n",
    "print('num is %6X' % num)\n",
    "print('num is %6s' % num)\n",
    "\n",
    "#转换说明符的一些标志\n",
    "num2 = 30\n",
    "#左边补0\n",
    "print('num2 is: %06d' % num2)\n",
    "#左边补0，总带上符号\n",
    "print('num2 is: %+06d' % num2)\n",
    "#左对齐\n",
    "print('num2 is: %-6d' % num2)\n",
    "\n",
    "#浮点数\n",
    "my_value = 3.001415926535\n",
    "#最小宽度为8，小数点保留3位\n",
    "print('my_Value is : %8.3f'% my_value)\n",
    "#最小宽度为8，小数点保留3位，左边补0\n",
    "print('my_Value is : %08.3f'% my_value)\n",
    "#最小宽度为8，小数点保留3位,左边补0，始终带符号\n",
    "print('my_Value is : %+08.3f'% my_value)\n",
    "\n",
    "#字符串\n",
    "name = 'charlie'\n",
    "#只保留3个字符\n",
    "print('the name is : %.3s' % name)\n",
    "#只保留2个字符,最小宽度为10\n",
    "print('the name is : %10.2s' % name)"
   ]
  },
  {
   "cell_type": "markdown",
   "id": "b14037c3",
   "metadata": {},
   "source": [
    "### 2.5.3 序列相关方法"
   ]
  },
  {
   "cell_type": "code",
   "execution_count": 5,
   "id": "795b9f72",
   "metadata": {},
   "outputs": [
    {
     "name": "stdout",
     "output_type": "stream",
     "text": [
      "j\n",
      "e\n",
      "ai\n",
      "aidsfjwjeveryflkjwae;fjoiw\n",
      "wje\n",
      "dsfjwjeveryflkjwae;fjoiwjefjw\n",
      "wjefjw\n",
      "aujai\n",
      "aujaidsfjwjeveryflkjwae;fjoi\n",
      "True\n",
      "False\n",
      "34\n",
      "; y\n"
     ]
    }
   ],
   "source": [
    "#索引\n",
    "s = 'aujaidsfjwjeveryflkjwae;fjoiwjefjw'\n",
    "print(s[2])\n",
    "print(s[-4])\n",
    "\n",
    "#切片\n",
    "print(s[3:5])\n",
    "print(s[3:-5])\n",
    "print(s[-6:-3])\n",
    "#切片的开始和结束索引可以省略\n",
    "print(s[5:])\n",
    "print(s[-6:])\n",
    "print(s[:5])\n",
    "print(s[:-6])\n",
    "\n",
    "#in运算符\n",
    "print('very' in s)\n",
    "print('day' in s)\n",
    "\n",
    "#长度获取\n",
    "print(len(s))\n",
    "\n",
    "#最小最大字符\n",
    "print(min(s),max(s))"
   ]
  },
  {
   "cell_type": "markdown",
   "id": "0ae5bfaa",
   "metadata": {},
   "source": [
    "### 2.5.4大小写相关方法"
   ]
  },
  {
   "cell_type": "code",
   "execution_count": 6,
   "id": "361cd129",
   "metadata": {},
   "outputs": [
    {
     "data": {
      "text/plain": [
       "['__add__',\n",
       " '__class__',\n",
       " '__contains__',\n",
       " '__delattr__',\n",
       " '__dir__',\n",
       " '__doc__',\n",
       " '__eq__',\n",
       " '__format__',\n",
       " '__ge__',\n",
       " '__getattribute__',\n",
       " '__getitem__',\n",
       " '__getnewargs__',\n",
       " '__gt__',\n",
       " '__hash__',\n",
       " '__init__',\n",
       " '__init_subclass__',\n",
       " '__iter__',\n",
       " '__le__',\n",
       " '__len__',\n",
       " '__lt__',\n",
       " '__mod__',\n",
       " '__mul__',\n",
       " '__ne__',\n",
       " '__new__',\n",
       " '__reduce__',\n",
       " '__reduce_ex__',\n",
       " '__repr__',\n",
       " '__rmod__',\n",
       " '__rmul__',\n",
       " '__setattr__',\n",
       " '__sizeof__',\n",
       " '__str__',\n",
       " '__subclasshook__',\n",
       " 'capitalize',\n",
       " 'casefold',\n",
       " 'center',\n",
       " 'count',\n",
       " 'encode',\n",
       " 'endswith',\n",
       " 'expandtabs',\n",
       " 'find',\n",
       " 'format',\n",
       " 'format_map',\n",
       " 'index',\n",
       " 'isalnum',\n",
       " 'isalpha',\n",
       " 'isascii',\n",
       " 'isdecimal',\n",
       " 'isdigit',\n",
       " 'isidentifier',\n",
       " 'islower',\n",
       " 'isnumeric',\n",
       " 'isprintable',\n",
       " 'isspace',\n",
       " 'istitle',\n",
       " 'isupper',\n",
       " 'join',\n",
       " 'ljust',\n",
       " 'lower',\n",
       " 'lstrip',\n",
       " 'maketrans',\n",
       " 'partition',\n",
       " 'removeprefix',\n",
       " 'removesuffix',\n",
       " 'replace',\n",
       " 'rfind',\n",
       " 'rindex',\n",
       " 'rjust',\n",
       " 'rpartition',\n",
       " 'rsplit',\n",
       " 'rstrip',\n",
       " 'split',\n",
       " 'splitlines',\n",
       " 'startswith',\n",
       " 'strip',\n",
       " 'swapcase',\n",
       " 'title',\n",
       " 'translate',\n",
       " 'upper',\n",
       " 'zfill']"
      ]
     },
     "execution_count": 6,
     "metadata": {},
     "output_type": "execute_result"
    }
   ],
   "source": [
    "#查看类或者模块包含的全部内容\n",
    "dir(str)"
   ]
  },
  {
   "cell_type": "code",
   "execution_count": 7,
   "id": "b624b69b",
   "metadata": {},
   "outputs": [
    {
     "name": "stdout",
     "output_type": "stream",
     "text": [
      "Help on method_descriptor:\n",
      "\n",
      "title(self, /)\n",
      "    Return a version of the string where each word is titlecased.\n",
      "    \n",
      "    More specifically, words start with uppercased characters and all remaining\n",
      "    cased characters have lower case.\n",
      "\n"
     ]
    }
   ],
   "source": [
    "#查看某个函数或者方法的帮助文档\n",
    "help(str.title)"
   ]
  },
  {
   "cell_type": "code",
   "execution_count": 8,
   "id": "3c904c85",
   "metadata": {},
   "outputs": [
    {
     "name": "stdout",
     "output_type": "stream",
     "text": [
      "I Love This Python\n",
      "i love this python\n",
      "I LOVE THIS PYTHON\n"
     ]
    }
   ],
   "source": [
    "#str中与大小写相关的方法\n",
    "a = 'i lovE tHiS python'\n",
    "print(a.title())\n",
    "print(a.lower())\n",
    "print(a.upper())"
   ]
  },
  {
   "cell_type": "markdown",
   "id": "f8fe1c22",
   "metadata": {},
   "source": [
    "### 2.5.5 删除空白 "
   ]
  },
  {
   "cell_type": "code",
   "execution_count": 9,
   "id": "499aaae5",
   "metadata": {},
   "outputs": [
    {
     "name": "stdout",
     "output_type": "stream",
     "text": [
      "this is a puppy.  \n",
      "   this is a puppy.\n",
      "this is a puppy.\n"
     ]
    }
   ],
   "source": [
    "s = \"   this is a puppy.  \"\n",
    "print(s.lstrip())\n",
    "print(s.rstrip())\n",
    "print(s.strip())"
   ]
  },
  {
   "cell_type": "code",
   "execution_count": 10,
   "id": "ccbc0383",
   "metadata": {},
   "outputs": [
    {
     "name": "stdout",
     "output_type": "stream",
     "text": [
      " think it is a scarecrow\n",
      "i think it is a scarecr\n",
      " think it is a scarecr\n"
     ]
    }
   ],
   "source": [
    "#删除字符串前后指定字符\n",
    "s = \"i think it is a scarecrow\"\n",
    "print(s.lstrip('itow'))\n",
    "print(s.rstrip('itow'))\n",
    "print(s.strip('itow'))"
   ]
  },
  {
   "cell_type": "markdown",
   "id": "0782cc2f",
   "metadata": {},
   "source": [
    "### 2.5.6 查找、替换相关方法 "
   ]
  },
  {
   "cell_type": "code",
   "execution_count": 11,
   "id": "0f806971",
   "metadata": {},
   "outputs": [
    {
     "name": "stdout",
     "output_type": "stream",
     "text": [
      "True\n",
      "True\n",
      "8\n",
      "8\n",
      "-1\n",
      "crazyxxxx.org is a good sxxxxe\n",
      "crazyxxxx.org is a good site\n",
      "crαzyiτ.org is α good siτe\n"
     ]
    }
   ],
   "source": [
    "s = 'crazyit.org is a good site'\n",
    "#判断是否以crazy开头\n",
    "print(s.startswith('crazy'))\n",
    "#判断结尾\n",
    "print(s.endswith('ite'))\n",
    "#查找org的位置\n",
    "print(s.find('org'))\n",
    "#查找org的位置\n",
    "print(s.index('org'))\n",
    "#从索引9处开始查找org出现的位置\n",
    "print(s.find('org',9))\n",
    "#从索引9处开始查找org出现的位置报错\n",
    "# print(s.index('org',9))\n",
    "#将字符串中所有it替换成xxxx\n",
    "print(s.replace('it','xxxx'))\n",
    "#将字符串中1个it替换成xxxx\n",
    "print(s.replace('it','xxxx',1))\n",
    "\"\"\"\n",
    "    定义翻译映射表\n",
    "\"\"\"\n",
    "table = {97:945,98:946,116:964}\n",
    "print(s.translate(table))"
   ]
  },
  {
   "cell_type": "code",
   "execution_count": 12,
   "id": "56b3373d",
   "metadata": {},
   "outputs": [
    {
     "data": {
      "text/plain": [
       "{97: 49, 98: 50, 116: 51}"
      ]
     },
     "execution_count": 12,
     "metadata": {},
     "output_type": "execute_result"
    }
   ],
   "source": [
    "#生成翻译映射表\n",
    "table = str.maketrans('abt','123')\n",
    "table"
   ]
  },
  {
   "cell_type": "markdown",
   "id": "2a0edd35",
   "metadata": {},
   "source": [
    "\n",
    "### 2.5.7 分割、连接方法 "
   ]
  },
  {
   "cell_type": "code",
   "execution_count": 13,
   "id": "aa0c94f9",
   "metadata": {},
   "outputs": [
    {
     "name": "stdout",
     "output_type": "stream",
     "text": [
      "['crazyit.org', 'is', 'a', 'good', 'site']\n",
      "['crazyit.org', 'is', 'a good site']\n",
      "['crazyit', 'org is a good site']\n",
      "crazyit.org/is/a/good/site\n",
      "crazyit.org,is,a,good,site\n"
     ]
    }
   ],
   "source": [
    "s = 'crazyit.org is a good site'\n",
    "#使用空格分割\n",
    "print(s.split())\n",
    "#使用空格分割,最多只分割前两个单词\n",
    "print(s.split(None,2))\n",
    "#使用点进行分割\n",
    "print(s.split(\".\"))\n",
    "\n",
    "mylist = s.split()\n",
    "#使用‘/’作为连接符拼接\n",
    "print('/'.join(mylist))\n",
    "#使用‘,’作为连接符拼接\n",
    "print(','.join(mylist))"
   ]
  },
  {
   "cell_type": "markdown",
   "id": "0c5b25e3",
   "metadata": {},
   "source": [
    "## 2.6运算符 "
   ]
  },
  {
   "cell_type": "markdown",
   "id": "6ca39c92",
   "metadata": {},
   "source": [
    "### 2.6.1 赋值运算符 "
   ]
  },
  {
   "cell_type": "code",
   "execution_count": null,
   "id": "68710023",
   "metadata": {},
   "outputs": [],
   "source": [
    "#赋值表达式是有值的"
   ]
  },
  {
   "cell_type": "markdown",
   "id": "26f9a002",
   "metadata": {},
   "source": [
    "### 2.6.2 算数运算符 "
   ]
  },
  {
   "cell_type": "code",
   "execution_count": 19,
   "id": "9e539ec4",
   "metadata": {},
   "outputs": [
    {
     "data": {
      "text/plain": [
       "'\\n    +：加法，连接运算符  \\n    -：减法，求负  \\n    *：乘法，连接运算符  \\n    /：除法  \\n    //：整除  \\n    %：求余  \\n    **：乘方运算符\\n'"
      ]
     },
     "execution_count": 19,
     "metadata": {},
     "output_type": "execute_result"
    }
   ],
   "source": [
    "\"\"\"\n",
    "    +：加法，连接运算符  \n",
    "    -：减法，求负  \n",
    "    *：乘法，连接运算符  \n",
    "    /：除法  \n",
    "    //：整除  \n",
    "    %：求余  \n",
    "    **：乘方运算符\n",
    "\"\"\""
   ]
  },
  {
   "cell_type": "markdown",
   "id": "6dee7ceb",
   "metadata": {},
   "source": [
    "### 2.6.3 位运算符 "
   ]
  },
  {
   "cell_type": "code",
   "execution_count": null,
   "id": "ec04e92d",
   "metadata": {},
   "outputs": [],
   "source": [
    "\"\"\"\n",
    "    &:与\n",
    "    |：或\n",
    "    ^:异或\n",
    "    ~:按位取反\n",
    "    <<:左位移\n",
    "    >>:右位移\n",
    "位移运算符只适合对整型数进行运算\n",
    "\"\"\"\n",
    "print(5&9)\n",
    "print(5|9)\n",
    "a= -5\n",
    "print(~a)\n",
    "print(5^9)\n",
    "print(5<<2)\n",
    "print(-5<<2)\n",
    "print(-5 >> 2)\n"
   ]
  },
  {
   "cell_type": "markdown",
   "id": "1954332e",
   "metadata": {},
   "source": [
    "### 2.6.4 增强运算符 "
   ]
  },
  {
   "cell_type": "code",
   "execution_count": null,
   "id": "92348d81",
   "metadata": {},
   "outputs": [],
   "source": [
    "\"\"\"\n",
    "    +=\n",
    "    -=\n",
    "    *=\n",
    "    /=\n",
    "    //=\n",
    "    %=\n",
    "    **=\n",
    "    &=\n",
    "    |=\n",
    "    ^=\n",
    "    <<=\n",
    "    >>=\n",
    "\"\"\""
   ]
  },
  {
   "cell_type": "markdown",
   "id": "79214682",
   "metadata": {},
   "source": [
    "### 2.6.5 索引运算符 "
   ]
  },
  {
   "cell_type": "code",
   "execution_count": null,
   "id": "75aa0960",
   "metadata": {},
   "outputs": [],
   "source": [
    "# []就是索引运算符\n",
    "a= 'abcdefghijklmn'\n",
    "#获取索引2到8的子串，步长为3\n",
    "print(a[2:8:3])\n",
    "#获取索引2到索引8的子串，步长为2\n",
    "print(a[2:8:2])"
   ]
  },
  {
   "cell_type": "markdown",
   "id": "1e543ecf",
   "metadata": {},
   "source": [
    "\n",
    "### 2.6.6 比较运算符和bool类型 "
   ]
  },
  {
   "cell_type": "code",
   "execution_count": null,
   "id": "8f19d127",
   "metadata": {},
   "outputs": [],
   "source": [
    "\"\"\"\n",
    " >\n",
    " >=\n",
    " <\n",
    " <=\n",
    " ==\n",
    " !=\n",
    " is 变量引用的同一个对象\n",
    " is not\n",
    "\"\"\"\n",
    "print(5==5.0)\n",
    "print(True ==1)\n",
    "import time\n",
    "a=time.gmtime()\n",
    "b=time.gmtime()\n",
    "print(a==b)\n",
    "print(a is b)\n",
    "\n",
    "#id函数 对象的内存地址\n",
    "print(id(a),id(b))"
   ]
  },
  {
   "cell_type": "markdown",
   "id": "4824a921",
   "metadata": {},
   "source": [
    "### 2.6.7 逻辑运算符 "
   ]
  },
  {
   "cell_type": "code",
   "execution_count": null,
   "id": "f27979b4",
   "metadata": {},
   "outputs": [],
   "source": [
    "\"\"\"\n",
    " and \n",
    " or \n",
    " not\n",
    "\"\"\""
   ]
  },
  {
   "cell_type": "markdown",
   "id": "ccdeb01e",
   "metadata": {},
   "source": [
    "### 2.6.8 三目运算符 "
   ]
  },
  {
   "cell_type": "code",
   "execution_count": null,
   "id": "51010a1d",
   "metadata": {},
   "outputs": [],
   "source": [
    "\"\"\"\n",
    "    只是通过if语句来实现三目运算符的功能，并非真正的三目运算符，而是if表达式\n",
    "\"\"\"\n",
    "a = 5\n",
    "b= 3\n",
    "st = \"a大于b\" if a>b else \"a不大于b\"\n",
    "print(st)\n",
    "c = 5\n",
    "d=5\n",
    "print('c>d') if c>d else (print('c<d') if c <d else print('c=d'))\n"
   ]
  },
  {
   "cell_type": "markdown",
   "id": "2119d7eb",
   "metadata": {},
   "source": [
    "### 2.6.9 in成员运算符 "
   ]
  },
  {
   "cell_type": "code",
   "execution_count": 20,
   "id": "31ef037a",
   "metadata": {},
   "outputs": [
    {
     "name": "stdout",
     "output_type": "stream",
     "text": [
      "True\n",
      "False\n"
     ]
    }
   ],
   "source": [
    "#判断某个成员是否位于序列中\n",
    "s = 'crazyit.org'\n",
    "print('it' in s)\n",
    "print('it' not in s)"
   ]
  },
  {
   "cell_type": "markdown",
   "id": "080464db",
   "metadata": {},
   "source": [
    "### 2.6.10 运算符的结合性和优先级 "
   ]
  },
  {
   "cell_type": "code",
   "execution_count": null,
   "id": "877410f0",
   "metadata": {},
   "outputs": [],
   "source": [
    "\"\"\"\n",
    "    从右向左结合：单目运算符、赋值运算符、三目运算符\n",
    "    从左向右结合：其他都是\n",
    "\"\"\""
   ]
  }
 ],
 "metadata": {
  "kernelspec": {
   "display_name": "Python 3 (ipykernel)",
   "language": "python",
   "name": "python3"
  },
  "language_info": {
   "codemirror_mode": {
    "name": "ipython",
    "version": 3
   },
   "file_extension": ".py",
   "mimetype": "text/x-python",
   "name": "python",
   "nbconvert_exporter": "python",
   "pygments_lexer": "ipython3",
   "version": "3.9.13"
  }
 },
 "nbformat": 4,
 "nbformat_minor": 5
}
