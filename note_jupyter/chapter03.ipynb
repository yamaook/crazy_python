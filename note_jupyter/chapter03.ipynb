{
 "cells": [
  {
   "cell_type": "markdown",
   "id": "b84db7be",
   "metadata": {},
   "source": [
    "# 3 列表、元组、字典 "
   ]
  },
  {
   "cell_type": "code",
   "execution_count": null,
   "id": "b59c4e70",
   "metadata": {},
   "outputs": [],
   "source": [
    "# list tuple dict"
   ]
  },
  {
   "cell_type": "markdown",
   "id": "04914ba4",
   "metadata": {},
   "source": [
    "## 3.1 序列"
   ]
  },
  {
   "cell_type": "markdown",
   "id": "1044971a",
   "metadata": {},
   "source": [
    "### 3.1.1 python的序列 "
   ]
  },
  {
   "cell_type": "code",
   "execution_count": null,
   "id": "8fce9bea",
   "metadata": {},
   "outputs": [],
   "source": [
    "# 字符串、列表、元组"
   ]
  },
  {
   "cell_type": "markdown",
   "id": "9e1be472",
   "metadata": {},
   "source": [
    "### 3.1.2 创建列表和元组 "
   ]
  },
  {
   "cell_type": "code",
   "execution_count": 1,
   "id": "5fc42d7c",
   "metadata": {},
   "outputs": [
    {
     "name": "stdout",
     "output_type": "stream",
     "text": [
      "['crazyit', 20, 'python']\n",
      "('crazyit', 20, 'python')\n"
     ]
    }
   ],
   "source": [
    "#定义列表\n",
    "my_list = ['crazyit',20,'python']\n",
    "print(my_list)\n",
    "#定义远组\n",
    "my_tuple = ('crazyit',20,'python')\n",
    "print(my_tuple)"
   ]
  },
  {
   "cell_type": "markdown",
   "id": "017e29bf",
   "metadata": {},
   "source": [
    "## 3.2 列表和元组的通用用法 "
   ]
  },
  {
   "cell_type": "markdown",
   "id": "5df77d08",
   "metadata": {},
   "source": [
    "### 3.2.1 通过索引使用元素"
   ]
  },
  {
   "cell_type": "code",
   "execution_count": 2,
   "id": "13fcce54",
   "metadata": {},
   "outputs": [
    {
     "name": "stdout",
     "output_type": "stream",
     "text": [
      "('crazyit', 20, 5.6, 'fkit', -17)\n",
      "crazyit\n",
      "20\n",
      "-17\n",
      "fkit\n"
     ]
    }
   ],
   "source": [
    "#通过索引访问元素\n",
    "a_tuple = ('crazyit',20,5.6,'fkit',-17)\n",
    "print(a_tuple)\n",
    "print(a_tuple[0])\n",
    "print(a_tuple[1])\n",
    "print(a_tuple[-1])\n",
    "print(a_tuple[-2])"
   ]
  },
  {
   "cell_type": "markdown",
   "id": "86a453ec",
   "metadata": {},
   "source": [
    "### 3.2.2 子序列 "
   ]
  },
  {
   "cell_type": "code",
   "execution_count": 3,
   "id": "c220ca2f",
   "metadata": {},
   "outputs": [
    {
     "name": "stdout",
     "output_type": "stream",
     "text": [
      "(20, 5.6)\n",
      "(5.6, 'fkit')\n",
      "(20, 5.6)\n",
      "(5.6, 'fkit')\n",
      "(5.6, 20)\n"
     ]
    }
   ],
   "source": [
    "# slice切片\n",
    "a_tuple = ('crazyit',20,5.6,'fkit',-17)\n",
    "print(a_tuple[1:3])\n",
    "print(a_tuple[-3:-1])\n",
    "print(a_tuple[1:-2])\n",
    "print(a_tuple[-3:4])\n",
    "print(a_tuple[2:0:-1])"
   ]
  },
  {
   "cell_type": "markdown",
   "id": "5c67aba3",
   "metadata": {},
   "source": [
    "### 3.2.3 加法 "
   ]
  },
  {
   "cell_type": "code",
   "execution_count": null,
   "id": "8fbac27b",
   "metadata": {},
   "outputs": [],
   "source": [
    "a_tuple = ('crazyit',20,-1.2)\n",
    "b_tuple=(127,'crazyit','fkit',3.33)\n",
    "#元组相加\n",
    "sum_tuple = a_tuple+b_tuple\n",
    "print(sum_tuple)\n",
    "#两个元组相加\n",
    "print(a_tuple + (-20,-30))\n",
    "#元组和列表不能直接相加\n",
    "\n",
    "a_list = [20,30,50,100]\n",
    "b_list = ['a','b','c']\n",
    "#计算列表相加\n",
    "print(a_list + b_list)\n",
    "print(a_list + ['fkit'])"
   ]
  },
  {
   "cell_type": "markdown",
   "id": "b55cebf6",
   "metadata": {},
   "source": [
    "### 3.2.4 乘法 "
   ]
  },
  {
   "cell_type": "code",
   "execution_count": null,
   "id": "277236ac",
   "metadata": {},
   "outputs": [],
   "source": [
    "a_tuple = ('crazyit',20)\n",
    "# 执行乘法\n",
    "print(a_tuple * 3)\n",
    "\n",
    "a_list = [30,'python',2]\n",
    "print(a_list *3)"
   ]
  },
  {
   "cell_type": "code",
   "execution_count": 4,
   "id": "c6b25b00",
   "metadata": {},
   "outputs": [
    {
     "name": "stdout",
     "output_type": "stream",
     "text": [
      "('st', 'nd', 'rd', 'th', 'th', 'th', 'th', 'th', 'th', 'th', 'th', 'th', 'th', 'th', 'th', 'th', 'th', 'th', 'th', 'th', 'st', 'nd', 'rd', 'th', 'th', 'th', 'th', 'th', 'th', 'th', 'st')\n",
      "输入日期（1-31）：5\n",
      "5th\n"
     ]
    }
   ],
   "source": [
    "# 一个元素的元组，别忘了逗号\n",
    "order_endings = ('st','nd','rd')+('th',)*17+\\\n",
    "                ('st','nd','rd')+('th',)*7+('st',)\n",
    "print(order_endings)\n",
    "day = input('输入日期（1-31）：')\n",
    "day_int = int(day)\n",
    "print(day+order_endings[day_int-1])"
   ]
  },
  {
   "cell_type": "markdown",
   "id": "f4f364dd",
   "metadata": {},
   "source": [
    "### 3.2.5 in运算符"
   ]
  },
  {
   "cell_type": "code",
   "execution_count": null,
   "id": "99232932",
   "metadata": {},
   "outputs": [],
   "source": [
    "a_tuple = ('crazyit',20,-1.2)\n",
    "print(20 in a_tuple)\n",
    "print(1.2 in a_tuple)\n",
    "print('fkit' not in a_tuple)"
   ]
  },
  {
   "cell_type": "markdown",
   "id": "be0c0997",
   "metadata": {},
   "source": [
    "### 3.2.6 长度、最大值和最小值 "
   ]
  },
  {
   "cell_type": "code",
   "execution_count": null,
   "id": "039d926e",
   "metadata": {},
   "outputs": [],
   "source": [
    "#全剧函数 len max min\n",
    "#max min 要求元组或者列表元素必须是相同类型且可以比较大小\n",
    "a_tuple=(20,10,-2,15.2,102,50)\n",
    "print(max(a_tuple),min(a_tuple),len(a_tuple))\n",
    "b_list = ['crazyit','fkit','Python','Kotlin']\n",
    "print(max(b_list),min(b_list),len(b_list))"
   ]
  },
  {
   "cell_type": "markdown",
   "id": "b0e15344",
   "metadata": {},
   "source": [
    "### 3.2.7 序列封包和解包"
   ]
  },
  {
   "cell_type": "code",
   "execution_count": null,
   "id": "3ace6936",
   "metadata": {},
   "outputs": [],
   "source": [
    "#多值赋给一个变量，封装成元组，叫做序列封包\n",
    "#序列赋值给多个变量，元素个数和变量个数相等。叫做序列解包。\n",
    "\n",
    "#序列封包\n",
    "vals = 10,20,30\n",
    "print(vals,type(vals),vals[1])\n",
    "#序列解包\n",
    "a_tuple = tuple(range(1,10,2))\n",
    "a,b,c,d,e = a_tuple\n",
    "print(a,b,c,d,e)\n",
    "a_list = ['fkit','crazyit']\n",
    "a_str,b_str = a_list\n",
    "print(a_str,b_str)\n",
    "#同时使用封包解包就是多对多赋值\n",
    "x,y,z = 10,20,30\n",
    "print(x,y,z)\n",
    "#交换变量的值\n",
    "x,y,z = y,z,x\n",
    "print(x,y,z)\n",
    "\n",
    "#解包时只解出部分变量\n",
    "first,second,*rest = range(10)\n",
    "print(first,second)\n",
    "print(rest)\n",
    "*begin,last = range(10)\n",
    "print(begin)\n",
    "print(last)\n",
    "first,*middle,last = range(10)\n",
    "print(first)\n",
    "print(middle)\n",
    "print(last)"
   ]
  },
  {
   "cell_type": "markdown",
   "id": "4eb94957",
   "metadata": {},
   "source": [
    "## 3.3 使用列表 "
   ]
  },
  {
   "cell_type": "markdown",
   "id": "e4b6e679",
   "metadata": {},
   "source": [
    "### 3.3.1 创建列表 "
   ]
  },
  {
   "cell_type": "code",
   "execution_count": null,
   "id": "a62dfc89",
   "metadata": {},
   "outputs": [],
   "source": [
    "#内置list()函数创建列表,用于将元组、区间等对象转换成列表\n",
    "#元组转列表\n",
    "a_tuple = ('crazyit',20,-1.2)\n",
    "a_list = list(a_tuple)\n",
    "print(a_list)\n",
    "#创建区间对象\n",
    "a_range=range(1,5)\n",
    "print(a_range)\n",
    "#区间对象转换成列表\n",
    "b_list= list(a_range)\n",
    "print(b_list)\n",
    "#创建区间指定步长\n",
    "c_list = list(range(4,20,3))\n",
    "print(c_list)"
   ]
  },
  {
   "cell_type": "code",
   "execution_count": null,
   "id": "daa75a96",
   "metadata": {},
   "outputs": [],
   "source": [
    "#内置tuple()函数创建元组\n",
    "a_list= ['crazyit',20,-1.2]\n",
    "#列表转元组\n",
    "a_tuple= tuple(a_list)\n",
    "print(a_tuple)\n",
    "#创建区间对象\n",
    "a_range = range(1,5)\n",
    "print(a_range)\n",
    "#区间转元组\n",
    "b_tuple = tuple(a_range)\n",
    "print(b_tuple)\n",
    "c_tuple= tuple(range(4,20,3))\n",
    "print(c_tuple)\n"
   ]
  },
  {
   "cell_type": "markdown",
   "id": "6972c679",
   "metadata": {},
   "source": [
    "### 3.3.2 增加列表元素 "
   ]
  },
  {
   "cell_type": "code",
   "execution_count": null,
   "id": "fce58ea8",
   "metadata": {},
   "outputs": [],
   "source": [
    "#append()\n",
    "a_list= ['crazyit',20,-1.2]\n",
    "#追加元素\n",
    "a_list.append('fkit')\n",
    "print(a_list)\n",
    "a_tuple = 3.4,5.6\n",
    "#追加元组\n",
    "a_list.append(a_tuple)\n",
    "print(a_list)\n",
    "#追加列表\n",
    "a_list.append(['a','b'])\n",
    "print(a_list)"
   ]
  },
  {
   "cell_type": "code",
   "execution_count": null,
   "id": "ec786bbb",
   "metadata": {},
   "outputs": [],
   "source": [
    "#extend()\n",
    "b_list = ['a',30]\n",
    "#追加元组中的元素\n",
    "b_list.extend((-2,3.1))\n",
    "print(b_list)\n",
    "#追加列表中的所有元素\n",
    "b_list.extend(['C','R','A'])\n",
    "print(b_list)\n",
    "#追加区间中的所有元素\n",
    "b_list.extend(range(97,100))\n",
    "print(b_list)"
   ]
  },
  {
   "cell_type": "code",
   "execution_count": 1,
   "id": "384561a1",
   "metadata": {},
   "outputs": [
    {
     "name": "stdout",
     "output_type": "stream",
     "text": [
      "[1, 2, 3, 4, 5]\n",
      "[1, 2, 3, 'CRAZY', 4, 5]\n",
      "[1, 2, 3, ('c', 'r', 'a', 'z', 'y'), 'CRAZY', 4, 5]\n"
     ]
    }
   ],
   "source": [
    "#insert()\n",
    "#列表中插入元素\n",
    "c_list = list(range(1,6))\n",
    "print(c_list)\n",
    "#索引3处插入字符\n",
    "c_list.insert(3,'CRAZY')\n",
    "print(c_list)\n",
    "#在索引3处插入元组\n",
    "c_list.insert(3,tuple('crazy'))\n",
    "print(c_list)"
   ]
  },
  {
   "cell_type": "markdown",
   "id": "e48ea757",
   "metadata": {},
   "source": [
    "### 3.3.3 删除列表元素"
   ]
  },
  {
   "cell_type": "code",
   "execution_count": 6,
   "id": "92d4c54e",
   "metadata": {},
   "outputs": [
    {
     "name": "stdout",
     "output_type": "stream",
     "text": [
      "['crazyit', 20, (3, 4), 'fkit']\n",
      "['crazyit', 'fkit']\n",
      "[1, 2, 4, 6, 8, 9]\n",
      "[1, 2, 6, 8, 9]\n"
     ]
    }
   ],
   "source": [
    "#del语句\n",
    "a_list = ['crazyit',20,-2.4,(3,4),'fkit']\n",
    "#删除第三个元素\n",
    "del a_list[2]\n",
    "print(a_list)\n",
    "#删除第二个到第4个元素\n",
    "del a_list[1:3]\n",
    "print(a_list)\n",
    "b_list=list(range(1,10))\n",
    "#删除第3个到倒数第二个元素，间隔为2\n",
    "del b_list[2:-2:2]\n",
    "print(b_list)\n",
    "#删除第3个到第5个间隔为2\n",
    "del b_list[2:4:2]\n",
    "print(b_list)"
   ]
  },
  {
   "cell_type": "code",
   "execution_count": null,
   "id": "8812b8cd",
   "metadata": {},
   "outputs": [],
   "source": [
    "#del语句删除变量\n",
    "name = 'crazyit'\n",
    "print(name)\n",
    "del name\n",
    "print(name)"
   ]
  },
  {
   "cell_type": "code",
   "execution_count": null,
   "id": "a9577c18",
   "metadata": {},
   "outputs": [],
   "source": [
    "#remove()删除列表元素,只删除第一个找到的元素\n",
    "c_list= [20,'crazyit',30,-4,'crazyit',3.4]\n",
    "#删除第一次找到的30\n",
    "c_list.remove(30)\n",
    "print(c_list)\n",
    "#删除第一次找到的crazyit\n",
    "c_list.remove('crazyit')\n",
    "print(c_list)\n",
    "\n",
    "#清空列表\n",
    "c_list.clear()\n",
    "print(c_list)"
   ]
  },
  {
   "cell_type": "markdown",
   "id": "2280cb64",
   "metadata": {},
   "source": [
    "### 3.3.4 修改列表元素 "
   ]
  },
  {
   "cell_type": "code",
   "execution_count": 3,
   "id": "c067eb95",
   "metadata": {},
   "outputs": [
    {
     "name": "stdout",
     "output_type": "stream",
     "text": [
      "[2, 4, 'fkit', 'crazyit', 23]\n",
      "[2, 4, 'fkit', 9527, 23]\n",
      "[1, 2, 3, 4]\n",
      "[1, 'a', 'b', 4]\n",
      "[1, 'a', 'x', 'y', 'b', 4]\n",
      "[1, 'a', 4]\n",
      "[1, 'C', 'h', 'a', 'r', 'l', 'i', 'e']\n",
      "[1, 2, 'a', 4, 'b', 6, 'c', 8, 'd']\n"
     ]
    }
   ],
   "source": [
    "#通过索引修改\n",
    "a_list = [2,4,-3.4,'crazyit',23]\n",
    "#对第3个元素赋值\n",
    "a_list[2] = 'fkit'\n",
    "print(a_list)\n",
    "#对倒数第2个元素赋值\n",
    "a_list[-2] = 9527\n",
    "print(a_list)\n",
    "\n",
    "#通过切片修改\n",
    "b_list = list(range(1,5))\n",
    "print(b_list)\n",
    "#将第2个到第4个元素赋值为新列表的元素\n",
    "b_list[1:3] = ['a','b']\n",
    "print(b_list)\n",
    "\n",
    "#将第3个到第3个元素赋值为新列表的元素，就是插入\n",
    "b_list[2:2] = ['x','y']\n",
    "print(b_list)\n",
    "#将第3个到第6个元素赋值为空列表，就是删除元素\n",
    "b_list[2:5] = []\n",
    "print(b_list)\n",
    "#用切片语法赋值，不能使用单个值。字符串会被自动分解成序列\n",
    "b_list[1:3] = 'Charlie'\n",
    "print(b_list)\n",
    "\n",
    "#指定step = 2 被赋值的元素有4个，则用于赋值的列表也必须有4个\n",
    "c_list = list(range(1,10))\n",
    "c_list[2:9:2] = \"abcd\"\n",
    "print(c_list)"
   ]
  },
  {
   "cell_type": "markdown",
   "id": "d2067954",
   "metadata": {},
   "source": [
    "### 3.3.5 列表的其他常用方法 "
   ]
  },
  {
   "cell_type": "code",
   "execution_count": 1,
   "id": "796504a2",
   "metadata": {},
   "outputs": [
    {
     "name": "stdout",
     "output_type": "stream",
     "text": [
      "2\n",
      "1\n"
     ]
    }
   ],
   "source": [
    "dir(list)\n",
    "\"\"\"\n",
    " 'copy':\n",
    " 'count': 统计\n",
    " 'index': 定位\n",
    " 'pop': 出栈\n",
    " 'reverse': 反向存放\n",
    " 'sort': 排序\n",
    "\"\"\"\n",
    "a_list = [2,30,'a',[5,30],30]\n",
    "#计算列表中30出现的次数\n",
    "print(a_list.count(30))\n",
    "#计算列表中[5,30]出现的次数\n",
    "print(a_list.count([5,30]))"
   ]
  },
  {
   "cell_type": "code",
   "execution_count": 2,
   "id": "3ce3cac8",
   "metadata": {},
   "outputs": [
    {
     "name": "stdout",
     "output_type": "stream",
     "text": [
      "1\n",
      "5\n"
     ]
    },
    {
     "ename": "ValueError",
     "evalue": "30 is not in list",
     "output_type": "error",
     "traceback": [
      "\u001b[1;31m---------------------------------------------------------------------------\u001b[0m",
      "\u001b[1;31mValueError\u001b[0m                                Traceback (most recent call last)",
      "\u001b[1;32m~\\AppData\\Local\\Temp\\ipykernel_15008\\2299815688.py\u001b[0m in \u001b[0;36m<module>\u001b[1;34m\u001b[0m\n\u001b[0;32m      6\u001b[0m \u001b[0mprint\u001b[0m\u001b[1;33m(\u001b[0m\u001b[0ma_list\u001b[0m\u001b[1;33m.\u001b[0m\u001b[0mindex\u001b[0m\u001b[1;33m(\u001b[0m\u001b[1;36m30\u001b[0m\u001b[1;33m,\u001b[0m\u001b[1;36m2\u001b[0m\u001b[1;33m)\u001b[0m\u001b[1;33m)\u001b[0m\u001b[1;33m\u001b[0m\u001b[1;33m\u001b[0m\u001b[0m\n\u001b[0;32m      7\u001b[0m \u001b[1;31m#在索引2到索引5（不含）之间定位元素30出现的位置,valueError\u001b[0m\u001b[1;33m\u001b[0m\u001b[1;33m\u001b[0m\u001b[0m\n\u001b[1;32m----> 8\u001b[1;33m \u001b[0mprint\u001b[0m\u001b[1;33m(\u001b[0m\u001b[0ma_list\u001b[0m\u001b[1;33m.\u001b[0m\u001b[0mindex\u001b[0m\u001b[1;33m(\u001b[0m\u001b[1;36m30\u001b[0m\u001b[1;33m,\u001b[0m\u001b[1;36m2\u001b[0m\u001b[1;33m,\u001b[0m\u001b[1;36m5\u001b[0m\u001b[1;33m)\u001b[0m\u001b[1;33m)\u001b[0m\u001b[1;33m\u001b[0m\u001b[1;33m\u001b[0m\u001b[0m\n\u001b[0m",
      "\u001b[1;31mValueError\u001b[0m: 30 is not in list"
     ]
    }
   ],
   "source": [
    "#index定位某个元素在列表中出现的位置\n",
    "a_list = [2,30,'a','b','crazyit',30]\n",
    "#定位30出现的位置\n",
    "print(a_list.index(30))\n",
    "#从索引2开始定位30出现的位置\n",
    "print(a_list.index(30,2))\n",
    "#在索引2到索引5（不含）之间定位元素30出现的位置,valueError\n",
    "print(a_list.index(30,2,5))"
   ]
  },
  {
   "cell_type": "code",
   "execution_count": 3,
   "id": "851252fd",
   "metadata": {},
   "outputs": [
    {
     "name": "stdout",
     "output_type": "stream",
     "text": [
      "['fkit', 'crazyit', 'Charlie']\n",
      "['fkit', 'crazyit'] Charlie\n",
      "['fkit'] crazyit\n"
     ]
    }
   ],
   "source": [
    "#pop()实现元素出栈功能\n",
    "stack = []\n",
    "#入栈3个元素\n",
    "stack.append('fkit')\n",
    "stack.append('crazyit')\n",
    "stack.append('Charlie')\n",
    "print(stack)\n",
    "#第一次出栈\n",
    "print(stack,stack.pop())\n",
    "#再次出栈\n",
    "print(stack,stack.pop())"
   ]
  },
  {
   "cell_type": "code",
   "execution_count": 4,
   "id": "c1a4a762",
   "metadata": {},
   "outputs": [
    {
     "name": "stdout",
     "output_type": "stream",
     "text": [
      "[7, 6, 5, 4, 3, 2, 1]\n"
     ]
    }
   ],
   "source": [
    "#reverse()反转列表\n",
    "a_list = list(range(1,8))\n",
    "#将a_list列表反转\n",
    "a_list.reverse()\n",
    "print(a_list)"
   ]
  },
  {
   "cell_type": "code",
   "execution_count": 5,
   "id": "bc1803dc",
   "metadata": {},
   "outputs": [
    {
     "name": "stdout",
     "output_type": "stream",
     "text": [
      "[-30, -2, 3, 3.4, 4, 9.3, 14]\n",
      "['Erlang', 'Go', 'Kotlin', 'Python', 'Ruby', 'Swift']\n",
      "['Go', 'Ruby', 'Swift', 'Erlang', 'Kotlin', 'Python']\n",
      "['Erlang', 'Kotlin', 'Python', 'Swift', 'Ruby', 'Go']\n"
     ]
    }
   ],
   "source": [
    "#sort()对列表元素排序\n",
    "a_list= [3,4,-2,-30,14,9.3,3.4]\n",
    "#对列表元素排序\n",
    "a_list.sort()\n",
    "print(a_list)\n",
    "b_list = ['Python','Swift','Ruby','Go','Kotlin','Erlang']\n",
    "#对列表元素排序，默认按字符串包含的字符的编码来比较大小\n",
    "b_list.sort()\n",
    "print(b_list)\n",
    "\n",
    "#指定key为len，指定使用len函数对集合元素生成比较大小的键\n",
    "#也就是按字符串的长度比较大小\n",
    "b_list.sort(key=len)\n",
    "print(b_list)\n",
    "#指定反向排序\n",
    "b_list.sort(key=len,reverse=True)\n",
    "print(b_list)"
   ]
  },
  {
   "cell_type": "markdown",
   "id": "560511e6",
   "metadata": {},
   "source": [
    "## 3.4 使用字典 "
   ]
  },
  {
   "cell_type": "markdown",
   "id": "134ae3e2",
   "metadata": {},
   "source": [
    "### 3.4.1 字典入门"
   ]
  },
  {
   "cell_type": "code",
   "execution_count": null,
   "id": "80887607",
   "metadata": {},
   "outputs": [],
   "source": [
    "#key不允许重复"
   ]
  },
  {
   "cell_type": "markdown",
   "id": "968b8730",
   "metadata": {},
   "source": [
    "### 3.4.2 创建字典 "
   ]
  },
  {
   "cell_type": "code",
   "execution_count": 6,
   "id": "3b4460b5",
   "metadata": {},
   "outputs": [
    {
     "name": "stdout",
     "output_type": "stream",
     "text": [
      "{'语文': 89, '数学': 92, '英语': 93}\n",
      "{}\n",
      "{(20, 30): 'good', 30: 'bad'}\n"
     ]
    }
   ],
   "source": [
    "scores = {'语文':89,'数学':92,'英语':93}\n",
    "print(scores)\n",
    "#空的花括号代表空dict\n",
    "empty_dict = {}\n",
    "print(empty_dict)\n",
    "#使用元组作为dict的key,列表不能作为键\n",
    "dict2= {(20,30):'good',30:'bad'}\n",
    "print(dict2)"
   ]
  },
  {
   "cell_type": "code",
   "execution_count": 7,
   "id": "bbbf7b18",
   "metadata": {},
   "outputs": [
    {
     "name": "stdout",
     "output_type": "stream",
     "text": [
      "{'celery': 1.58, 'brocoli': 1.29, 'lettuce': 2.19}\n",
      "{'BMW': 8.5, 'BENZ': 8.3, 'AUDI': 7.9}\n",
      "{}\n",
      "{'spinach': 1.39, 'cabbage': 2.59}\n"
     ]
    }
   ],
   "source": [
    "vegetables = [('celery',1.58),('brocoli',1.29),('lettuce',2.19)]\n",
    "#创建包含3个key-value对的字典\n",
    "dict3= dict(vegetables)\n",
    "print(dict3)\n",
    "\n",
    "cars = [['BMW',8.5],['BENZ',8.3],['AUDI',7.9]]\n",
    "#创建包含3个key-value对的字典\n",
    "dict4= dict(cars)\n",
    "print(dict4)\n",
    "#创建空字典\n",
    "dict5= dict()\n",
    "print(dict5)\n",
    "#使用关键字参数创建字典，key不允许使用表达式。\n",
    "dict6 = dict(spinach = 1.39 ,cabbage = 2.59)\n",
    "print(dict6)"
   ]
  },
  {
   "cell_type": "markdown",
   "id": "e5615611",
   "metadata": {},
   "source": [
    "### 3.4.3 字典的基本用法 "
   ]
  },
  {
   "cell_type": "code",
   "execution_count": 8,
   "id": "aea51720",
   "metadata": {},
   "outputs": [
    {
     "name": "stdout",
     "output_type": "stream",
     "text": [
      "89\n",
      "{'语文': 89, '数学': 93, 92: 5.7}\n",
      "{92: 5.7}\n",
      "{'BMW': 8.5, 'BENZ': 4.3, 'AUDI': 3.8}\n",
      "True\n",
      "False\n"
     ]
    }
   ],
   "source": [
    "scores = {'语文':89}\n",
    "#访问：通过key访问value\n",
    "print(scores['语文'])\n",
    "#添加：对不存在的key赋值，就是添加\n",
    "scores['数学'] = 93\n",
    "scores[92] = 5.7\n",
    "print(scores)\n",
    "#删除：使用del语句删除key-value对\n",
    "del scores['语文']\n",
    "del scores['数学']\n",
    "print(scores)\n",
    "#修改：对存在的key-value对赋值，改变key-value对\n",
    "cars = dict([['BMW',8.5],['BENZ',8.3],['AUDI',7.9]])\n",
    "cars['BENZ'] = 4.3\n",
    "cars['AUDI'] = 3.8\n",
    "print(cars)\n",
    "#判断cars是否包含AUDI的key\n",
    "print('AUDI' in cars)\n",
    "#判断cars是否包含名为PORSCHE的key\n",
    "print('PORSCHE' in cars)"
   ]
  },
  {
   "cell_type": "markdown",
   "id": "285b2cf5",
   "metadata": {},
   "source": [
    "### 3.4.4 字典的常用方法 "
   ]
  },
  {
   "cell_type": "code",
   "execution_count": null,
   "id": "ae9a82b4",
   "metadata": {},
   "outputs": [],
   "source": [
    "dir(dict)\n",
    "\"\"\"\n",
    " 'clear':清空字典\n",
    " 'copy',\n",
    " 'fromkeys',\n",
    " 'get'：根据key获取value\n",
    " 'items',\n",
    " 'keys',\n",
    " 'pop',\n",
    " 'popitem',\n",
    " 'setdefault',\n",
    " 'update',\n",
    " 'values'\n",
    "\"\"\""
   ]
  },
  {
   "cell_type": "code",
   "execution_count": 2,
   "id": "eb4205bd",
   "metadata": {},
   "outputs": [
    {
     "name": "stdout",
     "output_type": "stream",
     "text": [
      "{'BMW': 8.5, 'BENZ': 8.3, 'AUDI': 7.9}\n",
      "{}\n"
     ]
    }
   ],
   "source": [
    "cars = dict([['BMW',8.5],['BENZ',8.3],['AUDI',7.9]])\n",
    "print(cars)\n",
    "#清空cars的所有key-value对\n",
    "cars.clear()\n",
    "print(cars)"
   ]
  },
  {
   "cell_type": "code",
   "execution_count": 6,
   "id": "28de0b7d",
   "metadata": {},
   "outputs": [
    {
     "name": "stdout",
     "output_type": "stream",
     "text": [
      "8.5\n",
      "None\n"
     ]
    }
   ],
   "source": [
    "#get()根据key获取value\n",
    "cars = dict([['BMW',8.5],['BENZ',8.3],['AUDI',7.9]])\n",
    "print(cars.get('BMW'))\n",
    "print(cars.get('PORSCHE'))\n",
    "# print(cars['PORSCHE']) "
   ]
  },
  {
   "cell_type": "code",
   "execution_count": 7,
   "id": "8a47b37a",
   "metadata": {},
   "outputs": [
    {
     "name": "stdout",
     "output_type": "stream",
     "text": [
      "{'BMW': 4.5, 'BENZ': 8.3, 'AUDI': 7.9, 'PORSCHE': 9.3}\n"
     ]
    }
   ],
   "source": [
    "#update()更新字典\n",
    "cars = dict([['BMW',8.5],['BENZ',8.3],['AUDI',7.9]])\n",
    "cars.update({'BMW':4.5,'PORSCHE':9.3})\n",
    "print(cars)"
   ]
  },
  {
   "cell_type": "code",
   "execution_count": 15,
   "id": "6a91d4ae",
   "metadata": {},
   "outputs": [
    {
     "name": "stdout",
     "output_type": "stream",
     "text": [
      "<class 'dict_items'>\n",
      "[('BMW', 8.5), ('BENZ', 8.3), ('AUDI', 7.9)]\n",
      "('BENZ', 8.3)\n",
      "<class 'dict_keys'>\n",
      "['BMW', 'BENZ', 'AUDI']\n",
      "BENZ\n",
      "<class 'dict_values'>\n",
      "[8.5, 8.3, 7.9]\n",
      "8.3\n"
     ]
    }
   ],
   "source": [
    "cars = dict([['BMW',8.5],['BENZ',8.3],['AUDI',7.9]])\n",
    "#获取字典中所有key-value对，返回一个dict_items对象\n",
    "ims = cars.items()\n",
    "print(type(ims))\n",
    "#转换成列表\n",
    "print(list(ims))\n",
    "#访问第二个key-value对\n",
    "print(list(ims)[1])\n",
    "\n",
    "#获取字典中所有key，返回一个dict_keys对象\n",
    "kys = cars.keys()\n",
    "print(type(kys))\n",
    "#转换成列表\n",
    "print(list(kys))\n",
    "#访问第2个key\n",
    "print(list(kys)[1])\n",
    "\n",
    "#获取字典中所有value，返回一个dict_values对象\n",
    "vals = cars.values()\n",
    "print(type(vals))\n",
    "#转换成列表\n",
    "print(list(vals))\n",
    "#访问第二个\n",
    "print(list(vals)[1])"
   ]
  },
  {
   "cell_type": "code",
   "execution_count": 17,
   "id": "692c562f",
   "metadata": {},
   "outputs": [
    {
     "name": "stdout",
     "output_type": "stream",
     "text": [
      "7.9\n",
      "{'BMW': 8.5, 'BENZ': 8.3}\n"
     ]
    }
   ],
   "source": [
    "#pop()获取指定key对应的value，并删除这个key-value\n",
    "cars = dict([['BMW',8.5],['BENZ',8.3],['AUDI',7.9]])\n",
    "print(cars.pop('AUDI'))\n",
    "print(cars)"
   ]
  },
  {
   "cell_type": "code",
   "execution_count": 19,
   "id": "4f9fc3bc",
   "metadata": {},
   "outputs": [
    {
     "name": "stdout",
     "output_type": "stream",
     "text": [
      "{'BMW': 8.5, 'BENZ': 8.3, 'AUDI': 7.9}\n",
      "('AUDI', 7.9)\n",
      "{'BMW': 8.5, 'BENZ': 8.3}\n",
      "BENZ 8.3\n"
     ]
    }
   ],
   "source": [
    "#popitem()随机弹出一个键值对\n",
    "cars = dict([['BMW',8.5],['BENZ',8.3],['AUDI',7.9]])\n",
    "print(cars)\n",
    "#弹出字典底层存储的最后一个键值对\n",
    "print(cars.popitem())\n",
    "print(cars)\n",
    "\n",
    "k,v= cars.popitem()\n",
    "print(k,v)"
   ]
  },
  {
   "cell_type": "code",
   "execution_count": 23,
   "id": "17b897ae",
   "metadata": {},
   "outputs": [
    {
     "name": "stdout",
     "output_type": "stream",
     "text": [
      "9.2\n",
      "{'BMW': 8.5, 'BENZ': 8.3, 'AUDI': 7.9, 'PORSCHE': 9.2}\n",
      "8.5\n",
      "{'BMW': 8.5, 'BENZ': 8.3, 'AUDI': 7.9, 'PORSCHE': 9.2}\n"
     ]
    }
   ],
   "source": [
    "#setdefault()根据key返回value,key不存在新增一个默认value的键值对后返回value。\n",
    "cars = dict([['BMW',8.5],['BENZ',8.3],['AUDI',7.9]])\n",
    "#设置默认值，该key在dict中不存在，新增键值对\n",
    "print(cars.setdefault('PORSCHE',9.2))\n",
    "print(cars)\n",
    "#设置默认值，该key在dict中存在，不会修改dict内容\n",
    "print(cars.setdefault('BMW',3.4))\n",
    "print(cars)"
   ]
  },
  {
   "cell_type": "code",
   "execution_count": 27,
   "id": "49458ab4",
   "metadata": {},
   "outputs": [
    {
     "name": "stdout",
     "output_type": "stream",
     "text": [
      "{'a': None, 'b': None}\n",
      "{13: None, 17: None}\n",
      "{13: 'good', 17: 'good'}\n"
     ]
    }
   ],
   "source": [
    "#fromkeys()使用给定的key创建字典\n",
    "#使用列表创建字典\n",
    "a_dict= dict.fromkeys(['a','b'])\n",
    "print(a_dict)\n",
    "#使用元组创建字典\n",
    "b_dict = dict.fromkeys((13,17))\n",
    "print(b_dict)\n",
    "#使用元组创建字典，指定默认value\n",
    "c_dict=dict.fromkeys((13,17),'good')\n",
    "print(c_dict)"
   ]
  },
  {
   "cell_type": "markdown",
   "id": "208b29a0",
   "metadata": {},
   "source": [
    "### 3.4.5 使用字典格式化字符串 "
   ]
  },
  {
   "cell_type": "code",
   "execution_count": 30,
   "id": "4c25b146",
   "metadata": {},
   "outputs": [
    {
     "name": "stdout",
     "output_type": "stream",
     "text": [
      "书名是：疯狂python,价格是：0000088.90,出版社是：电子社\n",
      "书名是：疯狂kekkkk,价格是：0000078.90,出版社是：电子社\n"
     ]
    }
   ],
   "source": [
    "#在字符串模版中使用key\n",
    "temp = '书名是：%(name)s,价格是：%(price)010.2f,出版社是：%(publish)s'\n",
    "book = {'name':'疯狂python','price':88.9,'publish':'电子社'}\n",
    "#使用字典为字符串模板中的key传入值\n",
    "print(temp%book)\n",
    "book = {'name':'疯狂kekkkk','price':78.9,'publish':'电子社'}\n",
    "#使用字典为字符串模板中的key传入值\n",
    "print(temp%book)"
   ]
  }
 ],
 "metadata": {
  "kernelspec": {
   "display_name": "Python 3 (ipykernel)",
   "language": "python",
   "name": "python3"
  },
  "language_info": {
   "codemirror_mode": {
    "name": "ipython",
    "version": 3
   },
   "file_extension": ".py",
   "mimetype": "text/x-python",
   "name": "python",
   "nbconvert_exporter": "python",
   "pygments_lexer": "ipython3",
   "version": "3.9.13"
  }
 },
 "nbformat": 4,
 "nbformat_minor": 5
}
