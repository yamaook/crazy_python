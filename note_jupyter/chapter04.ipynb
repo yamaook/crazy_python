{
 "cells": [
  {
   "cell_type": "markdown",
   "id": "955a81a5",
   "metadata": {},
   "source": [
    "# 4 流程控制 "
   ]
  },
  {
   "cell_type": "markdown",
   "id": "addb45a3",
   "metadata": {},
   "source": [
    "## 4.1 顺序结构 "
   ]
  },
  {
   "cell_type": "markdown",
   "id": "194f0e7b",
   "metadata": {},
   "source": [
    "## 4.2 if分支结构 "
   ]
  },
  {
   "cell_type": "code",
   "execution_count": null,
   "id": "aa73752f",
   "metadata": {},
   "outputs": [],
   "source": [
    "a_age = input(\"请输入您的年龄：\")\n",
    "age = int(a_age)\n",
    "if age > 20 :\n",
    "    print(\"年龄已经大于20岁了\")\n",
    "    print(\"20岁以上的人应该学会承担责任......\")"
   ]
  },
  {
   "cell_type": "markdown",
   "id": "332d8ca5",
   "metadata": {},
   "source": [
    "### 4.2.1 不要忘记缩进 "
   ]
  },
  {
   "cell_type": "code",
   "execution_count": null,
   "id": "507eb79f",
   "metadata": {},
   "outputs": [],
   "source": [
    "#通常建议缩进4个空格"
   ]
  },
  {
   "cell_type": "markdown",
   "id": "664ed01b",
   "metadata": {},
   "source": [
    "### 4.2.2 不要随意缩进"
   ]
  },
  {
   "cell_type": "code",
   "execution_count": null,
   "id": "edd95088",
   "metadata": {},
   "outputs": [],
   "source": [
    "#同一个代码块内的代码必须保持相同缩进"
   ]
  },
  {
   "cell_type": "markdown",
   "id": "6255f85f",
   "metadata": {},
   "source": [
    "### 4.2.3 不要遗忘冒号 "
   ]
  },
  {
   "cell_type": "code",
   "execution_count": null,
   "id": "565dd4ab",
   "metadata": {},
   "outputs": [],
   "source": [
    "#python冒号精确表示代码块的开始点"
   ]
  },
  {
   "cell_type": "markdown",
   "id": "984da662",
   "metadata": {},
   "source": [
    "### 4.2.4 if条件的类型 "
   ]
  },
  {
   "cell_type": "code",
   "execution_count": null,
   "id": "42f56f7b",
   "metadata": {},
   "outputs": [],
   "source": [
    "# False None 0 “” () [] {}\n",
    "#都被当作false处理"
   ]
  },
  {
   "cell_type": "markdown",
   "id": "b842f40b",
   "metadata": {},
   "source": [
    "### 4.2.5 if分支的逻辑错误 "
   ]
  },
  {
   "cell_type": "code",
   "execution_count": null,
   "id": "73e6ff01",
   "metadata": {},
   "outputs": [],
   "source": [
    "#总是优先把包含范围小的条件放在前面处理"
   ]
  },
  {
   "cell_type": "markdown",
   "id": "8d18112f",
   "metadata": {},
   "source": [
    "### 4.2.6 if 表达式 "
   ]
  },
  {
   "cell_type": "code",
   "execution_count": null,
   "id": "b66caa49",
   "metadata": {},
   "outputs": [],
   "source": [
    "\"\"\"\n",
    "    if表达式相当于其他语言中的三目运算符\n",
    "\"\"\"\n",
    "a=1\n",
    "b=3\n",
    "res = 1 if a>b else 2\n",
    "print(res)"
   ]
  },
  {
   "cell_type": "markdown",
   "id": "1d14dfcc",
   "metadata": {},
   "source": [
    "### 4.2.7 pass语句 "
   ]
  },
  {
   "cell_type": "code",
   "execution_count": null,
   "id": "3bc38c3e",
   "metadata": {},
   "outputs": [],
   "source": [
    "#空语句，主要用来占位"
   ]
  },
  {
   "cell_type": "markdown",
   "id": "5b0dd26f",
   "metadata": {},
   "source": [
    "## 4.3 断言 "
   ]
  },
  {
   "cell_type": "code",
   "execution_count": null,
   "id": "881d172a",
   "metadata": {},
   "outputs": [],
   "source": [
    "#断言语句\n",
    "s_age = input('请输入您的年龄：')\n",
    "age = int(s_age)\n",
    "assert 20<age<80\n",
    "print('您的年龄再20到80之间')\n",
    "#assert断言执行逻辑\n",
    "\"\"\"\n",
    "    if False:\n",
    "        AssertionError\n",
    "\"\"\""
   ]
  },
  {
   "cell_type": "markdown",
   "id": "19f373bd",
   "metadata": {},
   "source": [
    "## 4.4 循环结构 "
   ]
  },
  {
   "cell_type": "markdown",
   "id": "57ae8ef0",
   "metadata": {},
   "source": [
    "循环语句包含4个部分：  \n",
    "初始化语句  \n",
    "循环条件  \n",
    "循环体  \n",
    "迭代语句"
   ]
  },
  {
   "cell_type": "markdown",
   "id": "51a7d420",
   "metadata": {},
   "source": [
    "### 4.4.1 while循环 "
   ]
  },
  {
   "cell_type": "code",
   "execution_count": null,
   "id": "6661926e",
   "metadata": {},
   "outputs": [],
   "source": [
    "count = 0\n",
    "while count <10:\n",
    "    print(\"count:\",count)\n",
    "    count +=1\n",
    "print(\"循环结束\")"
   ]
  },
  {
   "cell_type": "markdown",
   "id": "9344bc54",
   "metadata": {},
   "source": [
    "### 4.4.2 使用while循环遍历列表和元组"
   ]
  },
  {
   "cell_type": "code",
   "execution_count": null,
   "id": "da6b6d07",
   "metadata": {},
   "outputs": [],
   "source": [
    "#遍历元组所有元素\n",
    "a_tuple = ('fkit','crazyit','charlie')\n",
    "i=0\n",
    "while i < len(a_tuple):\n",
    "    print(a_tuple[i])\n",
    "    i+=1"
   ]
  },
  {
   "cell_type": "code",
   "execution_count": null,
   "id": "dbebf8c2",
   "metadata": {},
   "outputs": [],
   "source": [
    "#遍历列表\n",
    "src_list = [12,45,34,13,100,24,56,74,109]\n",
    "a_list =[]\n",
    "b_list =[]\n",
    "c_list =[]\n",
    "while len(src_list) != 0:\n",
    "    number = src_list.pop()\n",
    "    a = number % 3\n",
    "    if a == 0:\n",
    "        a_list.append(number)\n",
    "    elif a == 1:\n",
    "        b_list.append(number)\n",
    "    else:\n",
    "        c_list.append(number)\n",
    "        \n",
    "print(\"被3整除的：\",a_list)\n",
    "print(\"余数为1的：\",b_list)\n",
    "print(\"余数为2的：\",c_list)"
   ]
  },
  {
   "cell_type": "markdown",
   "id": "11e5232e",
   "metadata": {},
   "source": [
    "### 4.4.3 for-in循环"
   ]
  },
  {
   "cell_type": "code",
   "execution_count": null,
   "id": "3275a8d1",
   "metadata": {},
   "outputs": [],
   "source": [
    "#for-in循环用于遍历可迭代对象包含的元素。\n",
    "#计算指定整数阶乘\n",
    "s_max= input(\"请输入计算的整数：\")\n",
    "mx = int(s_max)\n",
    "result= 1\n",
    "for num in range(1,mx+1):\n",
    "    result*=num\n",
    "print(result)"
   ]
  },
  {
   "cell_type": "code",
   "execution_count": null,
   "id": "e0e13049",
   "metadata": {},
   "outputs": [],
   "source": [
    "for i in range(1,6):\n",
    "    print(i)\n",
    "    i=30\n",
    "    print(i)"
   ]
  },
  {
   "cell_type": "markdown",
   "id": "e2bb2457",
   "metadata": {},
   "source": [
    "### 4.4.4 使用for-in循环遍历列表和元组 "
   ]
  },
  {
   "cell_type": "code",
   "execution_count": null,
   "id": "45fab41d",
   "metadata": {},
   "outputs": [],
   "source": [
    "#遍历元组\n",
    "a_tuple = ('fkit','crazyit','charlie')\n",
    "for ele in a_tuple:\n",
    "    print(ele)"
   ]
  },
  {
   "cell_type": "code",
   "execution_count": null,
   "id": "d2678ad5",
   "metadata": {},
   "outputs": [],
   "source": [
    "#遍历列表\n",
    "#计算列表数值元素总和平均值\n",
    "src_list = [12,45,3.4,13,'a',4,56,'crazyit',109.5]\n",
    "my_sum = 0\n",
    "my_count = 0\n",
    "for ele in src_list:\n",
    "    if isinstance(ele,float) or isinstance(ele,int):\n",
    "        print(ele)\n",
    "        my_sum+=ele\n",
    "        my_count+=1\n",
    "print(\"总和是：\",my_sum)\n",
    "print(\"均值为：\",my_sum/my_count)\n",
    "\n",
    "#isinstance()判断某个变量是否为指定类型的实例\n",
    "isinstance(2,int)"
   ]
  },
  {
   "cell_type": "code",
   "execution_count": null,
   "id": "4911e289",
   "metadata": {},
   "outputs": [],
   "source": [
    "#根据索引遍历元组或列表\n",
    "a_list = [330,1.4,50,'fkit',-3.5]\n",
    "for i in range(0,len(a_list)):\n",
    "    print(a_list[i])"
   ]
  },
  {
   "cell_type": "markdown",
   "id": "6666d1de",
   "metadata": {},
   "source": [
    "### 4.4.5 使用for-in循环遍历字典"
   ]
  },
  {
   "cell_type": "code",
   "execution_count": null,
   "id": "dfd4a9f1",
   "metadata": {},
   "outputs": [],
   "source": [
    "my_dict = {'语文':89,'数学':92,'英语':80}\n",
    "for k,v in my_dict.items():\n",
    "    print(k,v)\n",
    "for k in my_dict.keys():\n",
    "    print(k,my_dict[k])\n",
    "for v in my_dict.values():\n",
    "    print(v)"
   ]
  },
  {
   "cell_type": "code",
   "execution_count": null,
   "id": "9af704bd",
   "metadata": {},
   "outputs": [],
   "source": [
    "#用字典统计列表中各元素出现的次数\n",
    "src_list= [12,45,3.4,12,'fkit',45,3.4,'fkit',45,3.4]\n",
    "statistics={}\n",
    "for ele in src_list:\n",
    "    if ele in statistics:\n",
    "        statistics[ele] +=1\n",
    "    else:\n",
    "        statistics[ele] = 1\n",
    "print(statistics)"
   ]
  },
  {
   "cell_type": "markdown",
   "id": "576144fd",
   "metadata": {},
   "source": [
    "### 4.4.6 循环使用else "
   ]
  },
  {
   "cell_type": "code",
   "execution_count": null,
   "id": "9873d79d",
   "metadata": {},
   "outputs": [],
   "source": [
    "#当循环的条件为false时，程序会执行else代码块。\n",
    "#while else\n",
    "count_i =0\n",
    "while count_i<5:\n",
    "    print('count_i<5:',count_i)\n",
    "    count_i+=1\n",
    "else:\n",
    "    print('count_i>=5:',count_i)"
   ]
  },
  {
   "cell_type": "code",
   "execution_count": null,
   "id": "ad8ac5f0",
   "metadata": {},
   "outputs": [],
   "source": [
    "#for在else代码块中，循环计数器的值依然等于最后一个元素的值。\n",
    "a_list = [330,1.4,50,'fkit',-3.5]\n",
    "for ele in a_list:\n",
    "    print(\"元素:\",ele)\n",
    "else:\n",
    "    print('else块',ele)"
   ]
  },
  {
   "cell_type": "markdown",
   "id": "6b44e008",
   "metadata": {},
   "source": [
    "### 4.4.7 嵌套循环 "
   ]
  },
  {
   "cell_type": "code",
   "execution_count": null,
   "id": "1e2ec03b",
   "metadata": {},
   "outputs": [],
   "source": [
    "#外层循环\n",
    "for i in range(0,5):\n",
    "    j = 0\n",
    "    #内存循环\n",
    "    while j<3:\n",
    "        print(\"i的值为：%d,j的值为：%d\"%(i,j))\n",
    "        j+=1"
   ]
  },
  {
   "cell_type": "markdown",
   "id": "2195b45e",
   "metadata": {},
   "source": [
    "### 4.4.8 for表达式 "
   ]
  },
  {
   "cell_type": "markdown",
   "id": "bbdf6423",
   "metadata": {},
   "source": [
    "for表达式：方括号用于利用可迭代对象创建新列表，也叫列表推导式。  \n",
    "圆括号生成一个生成器，也叫生成器推导式"
   ]
  },
  {
   "cell_type": "code",
   "execution_count": null,
   "id": "82d8714c",
   "metadata": {},
   "outputs": [],
   "source": [
    "a_range = range(10)\n",
    "#列表推导式\n",
    "a_list = [x*x for x in a_range]\n",
    "print(a_list)\n",
    "#添加if条件\n",
    "b_list = [x**2 for x in a_range if x %2 ==0]\n",
    "print(b_list)\n",
    "\n",
    "#生成器推导式generator，使用圆括号的for表达式创建生成器\n",
    "c_generator =(x**2 for x in a_range if x%2 ==0)\n",
    "for i in c_generator:\n",
    "    print(i,end='\\t')"
   ]
  },
  {
   "cell_type": "code",
   "execution_count": null,
   "id": "da351c63",
   "metadata": {},
   "outputs": [],
   "source": [
    "#for表达式嵌套,for表达式可使用多个循环\n",
    "d_list = [(x,y) for x in range(5) for y in range(4)]\n",
    "print(d_list)\n",
    "#三层嵌套的for表达式\n",
    "e_list = [[x,y,z] for x in range(5) for y in range(4) for z in range(6)]\n",
    "print(e_list,len(e_list))"
   ]
  },
  {
   "cell_type": "code",
   "execution_count": null,
   "id": "2f711772",
   "metadata": {},
   "outputs": [],
   "source": [
    "#对于包含多个循环的for表达式，同样可指定if条件\n",
    "src_a = [30,12,66,34,39,78,36,57,121]\n",
    "src_b = [3,5,7,11]\n",
    "result = [(x,y) for x in src_b for y in src_a if y%x ==0]\n",
    "print(result)"
   ]
  },
  {
   "cell_type": "markdown",
   "id": "3d445279",
   "metadata": {},
   "source": [
    "### 4.4.9 常用工具函数 "
   ]
  },
  {
   "cell_type": "code",
   "execution_count": null,
   "id": "cb9f96c9",
   "metadata": {},
   "outputs": [],
   "source": [
    "#zip()\n",
    "a= ['a','b','c']\n",
    "b = [1,2,3]\n",
    "[x for x in zip(a,b)]\n",
    "#返回的是zip对象\n",
    "print(zip(a,b))\n",
    "c= [0.1,0.2]\n",
    "#长度不等以短的为准\n",
    "[x for x in zip(a,c)]\n",
    "#同时压缩多个列表\n",
    "[x for x in zip(a,b,c)]"
   ]
  },
  {
   "cell_type": "code",
   "execution_count": null,
   "id": "806c7ddb",
   "metadata": {},
   "outputs": [],
   "source": [
    "#zip实现并行遍历效果\n",
    "books = ['疯狂Kotlin讲义','疯狂java讲义','疯狂python讲义']\n",
    "prices = [79,69,89]\n",
    "for book,price in zip(books,prices):\n",
    "    print(\"%s的价格是：%5.2f\" %(book,price))"
   ]
  },
  {
   "cell_type": "code",
   "execution_count": null,
   "id": "034f89b6",
   "metadata": {},
   "outputs": [],
   "source": [
    "#反向遍历\n",
    "a = range(10)#元组列表，字符串都可以\n",
    "[x for x in reversed(a)]"
   ]
  },
  {
   "cell_type": "code",
   "execution_count": null,
   "id": "3a0546c6",
   "metadata": {},
   "outputs": [],
   "source": [
    "#sorted接受一个可迭代对象为参数，返回一个对元素排序的列表\n",
    "a = [20,30,-1.2,3.5,90,3.6]\n",
    "b= ['www','dddddd','c','23']\n",
    "print(sorted(a))\n",
    "print(sorted(a,reverse=True))\n",
    "print(sorted(b,key=len))#指定排序关键值生成的函数"
   ]
  },
  {
   "cell_type": "markdown",
   "id": "66ca3aec",
   "metadata": {},
   "source": [
    "## 4.5 控制循环结构 "
   ]
  },
  {
   "cell_type": "markdown",
   "id": "0371bd2b",
   "metadata": {},
   "source": [
    "### 4.5.1 使用break结束循环 "
   ]
  },
  {
   "cell_type": "code",
   "execution_count": null,
   "id": "7f950766",
   "metadata": {},
   "outputs": [],
   "source": [
    "for i in range(0,10):\n",
    "    print(\"i的值为：\",i)\n",
    "    if i==2:\n",
    "        break\n",
    "\n",
    "#break终止不会执行else块\n",
    "for i in range(0,10):\n",
    "    print(\"i的值为：\",i)\n",
    "    if i==2:\n",
    "        break\n",
    "else:\n",
    "    print('else块',i)\n",
    "    "
   ]
  },
  {
   "cell_type": "code",
   "execution_count": null,
   "id": "de819d93",
   "metadata": {},
   "outputs": [],
   "source": [
    "#break跳出外层循环\n",
    "exit_flag = False\n",
    "for i in range(0,5):\n",
    "    for j in range(0,3):\n",
    "        print(i,j)\n",
    "        if j ==1 :\n",
    "            exit_flag = True\n",
    "            break\n",
    "    if exit_flag:\n",
    "        break"
   ]
  },
  {
   "cell_type": "markdown",
   "id": "ab057461",
   "metadata": {},
   "source": [
    "### 4.5.2 使用continue忽略本次循环的剩下语句 "
   ]
  },
  {
   "cell_type": "code",
   "execution_count": null,
   "id": "fb95b650",
   "metadata": {},
   "outputs": [],
   "source": [
    "for i in range(0,3):\n",
    "    print(\"i的值为：\",i)\n",
    "    if i==1:\n",
    "        continue\n",
    "    print(\"continue后的语句\")"
   ]
  },
  {
   "cell_type": "markdown",
   "id": "3264395b",
   "metadata": {},
   "source": [
    "### 4.5.3 使用return结束方法 "
   ]
  },
  {
   "cell_type": "code",
   "execution_count": null,
   "id": "1748e5dc",
   "metadata": {},
   "outputs": [],
   "source": [
    "def test():\n",
    "    for i in range(10):\n",
    "        for j in range(10):\n",
    "            print(i,j)\n",
    "            if j==1:\n",
    "                return\n",
    "            print(\"return后的输出语句\")\n",
    "test()"
   ]
  },
  {
   "cell_type": "markdown",
   "id": "96451998",
   "metadata": {},
   "source": [
    "## 4.6 牛刀小试 "
   ]
  },
  {
   "cell_type": "markdown",
   "id": "6d7cd797",
   "metadata": {},
   "source": [
    "### 4.6.1 数字转人民币读法 "
   ]
  },
  {
   "cell_type": "code",
   "execution_count": null,
   "id": "cd8413d4",
   "metadata": {},
   "outputs": [],
   "source": [
    "#把一个浮点数分成整数部分字符串和小数部分字符串\n",
    "def divide(num):\n",
    "    integer = int(num)\n",
    "    fraction = round((num - integer)*100)\n",
    "    return (str(integer),str(fraction))\n",
    "han_list = ['零','壹','贰','叁','肆','伍','陆','柒','捌','玖']\n",
    "unit_list = ['十','百','千']\n",
    "#把四位数字字符串变成汉字字符串\n",
    "def four_to_hanstr(num_str):\n",
    "    result = ''\n",
    "    num_len = len(num_str)\n",
    "    for i in range(num_len):\n",
    "        num = int(num_str[i])\n",
    "        if i!= num_len-1 and num!=0 :\n",
    "            result+=han_list[num]+unit_list[num_len -2-i]\n",
    "        else:\n",
    "            result+=han_list[num]\n",
    "    return result\n",
    "#把数字字符串变成汉字字符串\n",
    "def integer_to_str(num_str):\n",
    "    str_len = len(num_str)\n",
    "    if str_len>12:\n",
    "        print(\"数字太大翻译不了\")\n",
    "        return\n",
    "    elif str_len>8:\n",
    "        return four_to_hanstr(num_str[:-8])+'亿'+\\\n",
    "                four_to_hanstr(num_str[-8:-4])+'万'+\\\n",
    "                four_to_hanstr(num_str[-4:])\n",
    "    elif str_len > 4:\n",
    "        return four_to_hanstr(num_str[:-4])+'万'+\\\n",
    "                four_to_hanstr(num_str[-4:])\n",
    "    else:\n",
    "        return four_to_hanstr(num_str)\n",
    "num = float(input(\"请输入一个浮点数：\"))\n",
    "integer,fraction = divide(num)\n",
    "print(integer_to_str(integer))\n",
    "print(fraction)\n"
   ]
  },
  {
   "cell_type": "markdown",
   "id": "c87d855b",
   "metadata": {},
   "source": [
    "### 4.6.2 绕圈圈 "
   ]
  },
  {
   "cell_type": "code",
   "execution_count": null,
   "id": "4a01c069",
   "metadata": {},
   "outputs": [],
   "source": [
    "#二维列表\n",
    "SIZE = 7\n",
    "array = [[0]*SIZE]\n",
    "for i in range(SIZE-1):\n",
    "    array += [[0]*SIZE]\n",
    "print(array)\n",
    "orient=0\n",
    "j=0\n",
    "k=0\n",
    "for i in range(1,SIZE**2+1):\n",
    "    array[j][k] = i\n",
    "    \n",
    "    if j+k == SIZE-1:\n",
    "        if j>k:\n",
    "            orient = 1\n",
    "        else:\n",
    "            orient = 2\n",
    "    elif k==j and k >= SIZE/2:\n",
    "        orient = 3\n",
    "    elif j==k-1 and k<=SIZE/2:\n",
    "        orient = 0\n",
    "    \n",
    "    if orient ==0:\n",
    "        j+=1\n",
    "    elif orient == 1:\n",
    "        k+=1\n",
    "    elif orient ==2:\n",
    "        k-=1\n",
    "    elif orient ==3:\n",
    "        j-=1\n",
    "    \n",
    "for i in range(SIZE):\n",
    "    for j in range(SIZE):\n",
    "        print('%02d'% array[i][j],end=\" \")\n",
    "    print(\"\")"
   ]
  },
  {
   "cell_type": "markdown",
   "id": "7aea9e7e",
   "metadata": {},
   "source": [
    "### 4.6.3 控制台五子棋 "
   ]
  },
  {
   "cell_type": "code",
   "execution_count": null,
   "id": "d08ef049",
   "metadata": {},
   "outputs": [],
   "source": [
    "BOARD_SIZE = 15\n",
    "board = []\n",
    "def initBoard():\n",
    "    for i in range(BOARD_SIZE):\n",
    "        row =[\"✚\"] * BOARD_SIZE\n",
    "        board.append(row)\n",
    "def printBoard():\n",
    "    for i in range(BOARD_SIZE):\n",
    "        for j in range(BOARD_SIZE):\n",
    "            print(board[i][j],end=\" \")\n",
    "        print()\n",
    "initBoard()\n",
    "printBoard()\n",
    "inputStr = input(\"请输入您下起的坐标，应为x,y的格式：\\n\")\n",
    "while inputStr != None:\n",
    "    x_str,y_str = inputStr.split(sep=\",\")\n",
    "    board[int(x_str)-1][int(y_str)-1] = \"●\"\n",
    "    printBoard()\n",
    "    inputStr = input(\"请输入您下起的坐标，应为x,y的格式：\\n\")\n",
    "    "
   ]
  },
  {
   "cell_type": "markdown",
   "id": "eed753a0",
   "metadata": {},
   "source": [
    "### 4.6.4 控制台超市系统 "
   ]
  },
  {
   "cell_type": "code",
   "execution_count": null,
   "id": "83b6c7cc",
   "metadata": {},
   "outputs": [],
   "source": [
    "# 仓库\n",
    "repository = dict()\n",
    "shop_list = []\n",
    "\n",
    "\n",
    "def init_repository():\n",
    "    goods1 = (\"1000001\", \"疯狂Ruby讲义\", 88.0)\n",
    "    goods2 = (\"1000002\", \"疯狂Swift讲义\", 69.0)\n",
    "    goods3 = (\"1000003\", \"疯狂Kotlin讲义\", 59.0)\n",
    "    goods4 = (\"1000004\", \"疯狂Java讲义\", 109.0)\n",
    "    goods5 = (\"1000005\", \"疯狂Android讲义\", 108.0)\n",
    "    goods6 = (\"1000006\", \"疯狂ios讲义\", 77.0)\n",
    "\n",
    "    repository[goods1[0]] = goods1\n",
    "    repository[goods2[0]] = goods2\n",
    "    repository[goods3[0]] = goods3\n",
    "    repository[goods4[0]] = goods4\n",
    "    repository[goods5[0]] = goods5\n",
    "    repository[goods6[0]] = goods6\n",
    "\n",
    "\n",
    "def show_goods():\n",
    "    print(\"欢迎光临，疯狂超市\")\n",
    "    print(\"疯狂超市的商品清单：\")\n",
    "    print(\"%13s%40s%10s\" % (\"条码\", \"商品名称\", \"单价\"))\n",
    "    for goods in repository.values():\n",
    "        print(\"%15s%40s%12s\" % goods)\n",
    "\n",
    "\n",
    "def show_list():\n",
    "    print(\"=\" * 100)\n",
    "    if not shop_list:\n",
    "        print(\"还未购买商品\")\n",
    "    else:\n",
    "        title = \"%-5s|%15s|%40s|%10s|%4s|%10s\" % (\"ID\", \"条码\", \"商品名称\", \"单价\", \"数量\", \"小计\")\n",
    "        print(title)\n",
    "        print('-' * 100)\n",
    "        sum = 0\n",
    "        for i, item in enumerate(shop_list):\n",
    "            ID = i + 1\n",
    "            code = item[0]\n",
    "            name = repository[code][1]\n",
    "            price = repository[code][2]\n",
    "            number = item[1]\n",
    "            amount = price * number\n",
    "            sum = sum + amount\n",
    "            line = \"%-5s|%17s|%40s|%12s|%6s|%12s\" % (ID, code, name, price, number, amount)\n",
    "            print(line)\n",
    "        print('-' * 100)\n",
    "        print(\"                   总计：\", sum)\n",
    "    print(\"=\" * 100)\n",
    "\n",
    "\n",
    "def add():\n",
    "    code = input(\"请输入商品条码:\\n\")\n",
    "    if code not in repository:\n",
    "        print(\"条码错误，请重新输入\")\n",
    "        return\n",
    "    goods = repository[code]\n",
    "    number = int(input(\"请输入购买数量:\\n\"))\n",
    "    shop_list.append([code, number])\n",
    "\n",
    "\n",
    "def edit():\n",
    "    ID = input(\"请输入要修改的购物明细项的ID:\\n\")\n",
    "    index = int(ID) - 1\n",
    "    item = shop_list[index]\n",
    "    number = input('请输入新的购买数量:\\n')\n",
    "    item[1] = int(number)\n",
    "\n",
    "\n",
    "def delete():\n",
    "    ID = input(\"请输入要删除的购物明细项的ID:\")\n",
    "    index = int(ID) - 1\n",
    "    del shop_list[index]\n",
    "\n",
    "\n",
    "def payment():\n",
    "    show_list()\n",
    "    print(\"\\n\" * 3)\n",
    "    print(\"欢迎下次光临\")\n",
    "    import os\n",
    "    os._exit(0)\n",
    "\n",
    "#这个可以根据不同指令调用不同函数\n",
    "cmd_dict = {'a': add, 'e': edit, 'd': delete, \"p\": payment, \"s\": show_goods}\n",
    "\n",
    "\n",
    "def show_command():\n",
    "    cmd = input(\"请输入操作命令:\\n\" + \"  添加（a) 修改（e) 删除（d） 结算（p） 超市商品（s）\\n\")\n",
    "    if cmd not in cmd_dict:\n",
    "        print(\"不要玩，好不好\")\n",
    "    else:\n",
    "\n",
    "        cmd_dict[cmd]()\n",
    "\n",
    "init_repository()\n",
    "show_goods()\n",
    "while True:\n",
    "    show_list()\n",
    "    show_command()\n"
   ]
  }
 ],
 "metadata": {
  "kernelspec": {
   "display_name": "Python 3 (ipykernel)",
   "language": "python",
   "name": "python3"
  },
  "language_info": {
   "codemirror_mode": {
    "name": "ipython",
    "version": 3
   },
   "file_extension": ".py",
   "mimetype": "text/x-python",
   "name": "python",
   "nbconvert_exporter": "python",
   "pygments_lexer": "ipython3",
   "version": "3.9.12"
  }
 },
 "nbformat": 4,
 "nbformat_minor": 5
}
